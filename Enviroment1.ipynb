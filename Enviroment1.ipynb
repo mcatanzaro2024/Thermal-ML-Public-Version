{
 "cells": [
  {
   "cell_type": "markdown",
   "id": "59bb19ee",
   "metadata": {},
   "source": [
    "## Begin by defining Standard Varibles"
   ]
  },
  {
   "cell_type": "code",
   "execution_count": 20,
   "id": "da1f8e4e",
   "metadata": {},
   "outputs": [],
   "source": [
    "import numpy as np\n",
    "import matplotlib.pyplot as plt\n"
   ]
  },
  {
   "cell_type": "code",
   "execution_count": 62,
   "id": "4e561e61",
   "metadata": {},
   "outputs": [],
   "source": [
    "# For materal = steel, in future may replace with an array to better store the values for more complete modelling.\n",
    "Density = 7800 # kg/cu-m\n",
    "Thermal_Conduct = 50 # W/m-C\n",
    "# Heat Capacity\n",
    "Heat_Cap = 470 # J/kg-C\n",
    "\n",
    "# for fancy magical fluid\n",
    "Conv_Coeff = 50 # W/m-C\n",
    "Temp_Fluid = 40 # C\n",
    "# other constants not connected to a materal\n",
    "TempLeftEnd = 200 # C\n",
    "TimeInc = 10 # s"
   ]
  },
  {
   "cell_type": "markdown",
   "id": "32917d2c",
   "metadata": {},
   "source": [
    "## Now setting up classes for each node"
   ]
  },
  {
   "cell_type": "code",
   "execution_count": 63,
   "id": "96bd76c9",
   "metadata": {
    "scrolled": true
   },
   "outputs": [],
   "source": [
    "#Node 1\n",
    "class ClassNode1:\n",
    "    Length = 25.0E-3\n",
    "    Dia = 3.0E-3\n",
    "    CircumSurfaceArea = np.pi*Length*Dia\n",
    "    EndSurfaceArea = np.pi*(Dia*1/2)**2\n",
    "    Volume = EndSurfaceArea*Length\n",
    "    ConstThermResistLeft = Length/(EndSurfaceArea*Thermal_Conduct)\n",
    "    ConstThermResistRight = Length/(EndSurfaceArea*Thermal_Conduct)\n",
    "    ConstThermResistCircum = 1/(CircumSurfaceArea*Conv_Coeff)\n",
    "    ThermCapacitance = Density*Volume*Heat_Cap\n",
    "    SumRecipricalResist = 1/ConstThermResistLeft+1/ConstThermResistRight+1/ConstThermResistCircum\n",
    "    Location = 25.0E-3\n",
    "\n",
    "class ClassNode2:\n",
    "    Length = 25.0E-3\n",
    "    Dia = 3.0E-3\n",
    "    CircumSurfaceArea = np.pi*Length*Dia\n",
    "    EndSurfaceArea = np.pi*(Dia*1/2)**2\n",
    "    Volume = EndSurfaceArea*Length\n",
    "    ConstThermResistLeft = Length/(EndSurfaceArea*Thermal_Conduct)\n",
    "    ConstThermResistRight = Length/(EndSurfaceArea*Thermal_Conduct)\n",
    "    ConstThermResistCircum = 1/(CircumSurfaceArea*Conv_Coeff)\n",
    "    ThermCapacitance = Density*Volume*Heat_Cap\n",
    "    SumRecipricalResist = 1/ConstThermResistLeft+1/ConstThermResistRight+1/ConstThermResistCircum\n",
    "    Location = 50.0E-3\n",
    "    \n",
    "class ClassNode3:\n",
    "    Length = 25.0E-3\n",
    "    Dia = 3.0E-3\n",
    "    CircumSurfaceArea = np.pi*Length*Dia\n",
    "    EndSurfaceArea = np.pi*(Dia*1/2)**2\n",
    "    Volume = EndSurfaceArea*Length\n",
    "    ConstThermResistLeft = Length/(EndSurfaceArea*Thermal_Conduct)\n",
    "    ConstThermResistRight = Length/(EndSurfaceArea*Thermal_Conduct)\n",
    "    ConstThermResistCircum = 1/(CircumSurfaceArea*Conv_Coeff)\n",
    "    ThermCapacitance = Density*Volume*Heat_Cap\n",
    "    SumRecipricalResist = 1/ConstThermResistLeft+1/ConstThermResistRight+1/ConstThermResistCircum\n",
    "    Location = 75.0E-3\n",
    "    \n",
    "class ClassNode4:\n",
    "    Length = 12.5E-3\n",
    "    Dia = 3.0E-3\n",
    "    CircumSurfaceArea = np.pi*Length*Dia\n",
    "    EndSurfaceArea = np.pi*(Dia*1/2)**2\n",
    "    Volume = EndSurfaceArea*Length\n",
    "    ConstThermResistLeft = (Length*2)/(EndSurfaceArea*Thermal_Conduct)\n",
    "    ConstThermResistRight = 1/(EndSurfaceArea*Conv_Coeff)\n",
    "    ConstThermResistCircum = 1/(CircumSurfaceArea*Conv_Coeff)\n",
    "    ThermCapacitance = Density*Volume*Heat_Cap\n",
    "    SumRecipricalResist = 1/ConstThermResistLeft+1/ConstThermResistRight+1/ConstThermResistCircum\n",
    "    Location = 87.5E-3"
   ]
  },
  {
   "cell_type": "markdown",
   "id": "3bf5162d",
   "metadata": {},
   "source": [
    "## Define the 4 Nodes as Objects\n",
    "#### In order to use the varibles contained in the class"
   ]
  },
  {
   "cell_type": "code",
   "execution_count": 64,
   "id": "c06c9149",
   "metadata": {},
   "outputs": [],
   "source": [
    "Node1 = ClassNode1\n",
    "Node2 = ClassNode2\n",
    "Node3 = ClassNode3\n",
    "Node4 = ClassNode4"
   ]
  },
  {
   "cell_type": "markdown",
   "id": "7c0adff7",
   "metadata": {},
   "source": [
    "## Now varibles are defined I am attaching Functions and such that calculate the temp through out the rod"
   ]
  },
  {
   "cell_type": "code",
   "execution_count": 65,
   "id": "054e1a3e",
   "metadata": {},
   "outputs": [],
   "source": [
    "# some var i might need, possible not defined atm\n",
    "Temp1 = 200\n",
    "Temp2 = 200\n",
    "Temp3 = 200\n",
    "Temp4 = 200"
   ]
  },
  {
   "cell_type": "code",
   "execution_count": 66,
   "id": "38d0691f",
   "metadata": {},
   "outputs": [],
   "source": [
    "#To update the Therm Resist ( Must do before updateing temp)\n",
    "ThermResistL1 = (TempLeftEnd - Temp1)/Node1.ConstThermResistLeft\n",
    "ThermResistL2 = (Temp1 - Temp2)/Node2.ConstThermResistLeft\n",
    "ThermResistL3 = (Temp2 - Temp3)/Node3.ConstThermResistLeft\n",
    "ThermResistL4 = (Temp3 - Temp4)/Node4.ConstThermResistLeft\n",
    "ThermResistR1 = (Temp2 - Temp1)/Node1.ConstThermResistRight\n",
    "ThermResistR2 = (Temp3 - Temp2)/Node2.ConstThermResistRight\n",
    "ThermResistR3 = (Temp4 - Temp3)/Node3.ConstThermResistRight\n",
    "ThermResistR4 = (Temp_Fluid - Temp4)/Node4.ConstThermResistRight\n",
    "ThermResistC1 = (Temp_Fluid - Temp1)/Node1.ConstThermResistCircum\n",
    "ThermResistC2 = (Temp_Fluid - Temp2)/Node2.ConstThermResistCircum\n",
    "ThermResistC3 = (Temp_Fluid - Temp3)/Node3.ConstThermResistCircum\n",
    "ThermResistC4 = (Temp_Fluid - Temp4)/Node4.ConstThermResistCircum"
   ]
  },
  {
   "cell_type": "code",
   "execution_count": 356,
   "id": "b527b863",
   "metadata": {},
   "outputs": [],
   "source": [
    "## To update temp ( must update Therm Rsist First)\n",
    "Temp1 = TimeInc/Node1.ThermCapacitance*(ThermResistL1 + ThermResistR1 + ThermResistC1)+Temp1\n",
    "Temp2 = TimeInc/Node2.ThermCapacitance*(ThermResistL2 + ThermResistR2 + ThermResistC2)+Temp2\n",
    "Temp3 = TimeInc/Node3.ThermCapacitance*(ThermResistL3 + ThermResistR3 + ThermResistC3)+Temp3\n",
    "Temp4 = TimeInc/Node4.ThermCapacitance*(ThermResistL4 + ThermResistR4 + ThermResistC4)+Temp4"
   ]
  },
  {
   "cell_type": "code",
   "execution_count": 357,
   "id": "5f3468c4",
   "metadata": {},
   "outputs": [
    {
     "name": "stdout",
     "output_type": "stream",
     "text": [
      "170.90380069103475\n",
      "170.90380069103475\n",
      "170.90380069103475\n",
      "169.1580287324968\n"
     ]
    }
   ],
   "source": [
    "print (Temp1)\n",
    "print (Temp2)\n",
    "print (Temp3)\n",
    "print (Temp4)"
   ]
  },
  {
   "cell_type": "code",
   "execution_count": 67,
   "id": "729b1804",
   "metadata": {},
   "outputs": [
    {
     "name": "stdout",
     "output_type": "stream",
     "text": [
      "0.0\n",
      "0.0\n",
      "0.0\n",
      "0.0\n",
      "0.0\n",
      "0.0\n",
      "0.0\n",
      "-0.05654866776461628\n",
      "-1.8849555921538759\n",
      "-1.8849555921538759\n",
      "-1.8849555921538759\n",
      "-0.9424777960769379\n"
     ]
    }
   ],
   "source": [
    "print (ThermResistL1)\n",
    "print (ThermResistL2)\n",
    "print (ThermResistL3)\n",
    "print (ThermResistL4)\n",
    "print (ThermResistR1)\n",
    "print (ThermResistR2)\n",
    "print (ThermResistR3)\n",
    "print (ThermResistR4)\n",
    "print (ThermResistC1)\n",
    "print (ThermResistC2)\n",
    "print (ThermResistC3)\n",
    "print (ThermResistC4)"
   ]
  },
  {
   "cell_type": "markdown",
   "id": "ed73a0d9",
   "metadata": {},
   "source": [
    "## Reworking the calculators into methods under classes"
   ]
  },
  {
   "cell_type": "code",
   "execution_count": 383,
   "id": "5618c2a2",
   "metadata": {},
   "outputs": [],
   "source": [
    "class CalcTemp:\n",
    "    def Calc1(Temp1,Temp2,Temp3,Temp4,Temp_Fluid,TempLeftEnd):\n",
    "        ResistL = (TempLeftEnd - Temp1)/Node1.ConstThermResistLeft\n",
    "        ResistR = (Temp2 - Temp1)/Node1.ConstThermResistRight\n",
    "        ResistC = (Temp_Fluid - Temp1)/Node1.ConstThermResistCircum\n",
    "        Temperature = TimeInc/Node1.ThermCapacitance*(ResistL + ResistR + ResistC)+Temp1\n",
    "        return Temperature\n",
    "    def Calc2(Temp1,Temp2,Temp3,Temp4,Temp_Fluid,TempLeftEnd):\n",
    "        ResistL = (Temp1 - Temp2)/Node2.ConstThermResistLeft\n",
    "        ResistR = (Temp3 - Temp2)/Node2.ConstThermResistRight\n",
    "        ResistC = (Temp_Fluid - Temp2)/Node2.ConstThermResistCircum\n",
    "        Temperature = TimeInc/Node2.ThermCapacitance*(ResistL + ResistR + ResistC)+Temp2\n",
    "        return Temperature\n",
    "    def Calc3(Temp1,Temp2,Temp3,Temp4,Temp_Fluid,TempLeftEnd):\n",
    "        ResistL = (Temp2 - Temp3)/Node3.ConstThermResistLeft\n",
    "        ResistR = (Temp4 - Temp3)/Node3.ConstThermResistRight\n",
    "        ResistC = (Temp_Fluid - Temp3)/Node3.ConstThermResistCircum\n",
    "        Temperature = TimeInc/Node3.ThermCapacitance*(ResistL + ResistR + ResistC)+Temp3\n",
    "        return Temperature\n",
    "    def Calc4(Temp1,Temp2,Temp3,Temp4,Temp_Fluid,TempLeftEnd):\n",
    "        ResistL = (Temp3 - Temp4)/Node4.ConstThermResistLeft\n",
    "        ResistR = (Temp_Fluid - Temp4)/Node4.ConstThermResistRight\n",
    "        ResistC = (Temp_Fluid - Temp4)/Node4.ConstThermResistCircum\n",
    "        Temperature = TimeInc/Node4.ThermCapacitance*(ResistL + ResistR + ResistC)+Temp4\n",
    "        return Temperature"
   ]
  },
  {
   "cell_type": "code",
   "execution_count": 384,
   "id": "757995b9",
   "metadata": {},
   "outputs": [],
   "source": [
    "CalcTemp = CalcTemp"
   ]
  },
  {
   "cell_type": "markdown",
   "id": "4c5c32f3",
   "metadata": {},
   "source": [
    "#### Using this frame work create a function to find temps for given time"
   ]
  },
  {
   "cell_type": "code",
   "execution_count": 389,
   "id": "a8651037",
   "metadata": {},
   "outputs": [],
   "source": [
    "def TempAtTime(TimeInput):\n",
    "    Iterations = TimeInput/TimeInc\n",
    "    # if not a whole number will round up\n",
    "    Temp1 = 200\n",
    "    Temp2 = 200\n",
    "    Temp3 = 200\n",
    "    Temp4 = 200\n",
    "    #print (Iterations)\n",
    "    i = 0\n",
    "    while i < Iterations:\n",
    "        i = i + 1\n",
    "        Output1 = CalcTemp.Calc1(Temp1,Temp2,Temp3,Temp4,Temp_Fluid,TempLeftEnd)\n",
    "        Output2 = CalcTemp.Calc2(Temp1,Temp2,Temp3,Temp4,Temp_Fluid,TempLeftEnd)\n",
    "        Output3 = CalcTemp.Calc3(Temp1,Temp2,Temp3,Temp4,Temp_Fluid,TempLeftEnd)\n",
    "        Output4 = CalcTemp.Calc4(Temp1,Temp2,Temp3,Temp4,Temp_Fluid,TempLeftEnd)\n",
    "        Temp1 = Output1\n",
    "        Temp2 = Output2\n",
    "        Temp3 = Output3\n",
    "        Temp4 = Output4\n",
    "    print (Temp1)\n",
    "    print (Temp2)\n",
    "    print (Temp3)\n",
    "    print (Temp4)"
   ]
  },
  {
   "cell_type": "code",
   "execution_count": 393,
   "id": "3ee6ba6d",
   "metadata": {
    "scrolled": true
   },
   "outputs": [
    {
     "name": "stdout",
     "output_type": "stream",
     "text": [
      "112.12307016746331\n",
      "78.55726849176149\n",
      "66.6011380010944\n",
      "63.373917917449724\n"
     ]
    }
   ],
   "source": [
    "TempAtTime(100)"
   ]
  },
  {
   "cell_type": "markdown",
   "id": "6973ca25",
   "metadata": {},
   "source": [
    "#### Also create a function that can display temps over multiple time increments as a chart."
   ]
  },
  {
   "cell_type": "code",
   "execution_count": 418,
   "id": "21a12ad7",
   "metadata": {},
   "outputs": [],
   "source": [
    "def TempOverTime(TimeInput):\n",
    "    Iterations = TimeInput/TimeInc\n",
    "    # if not a whole number will round up\n",
    "    Temp1 = 200\n",
    "    Temp2 = 200\n",
    "    Temp3 = 200\n",
    "    Temp4 = 200\n",
    "    #print (Iterations)\n",
    "    i = 0\n",
    "    print (\"TimeInc T1-------------------T2-------------------T3-------------------T4\")\n",
    "    while i < Iterations:\n",
    "        i = i + 1\n",
    "        Output1 = CalcTemp.Calc1(Temp1,Temp2,Temp3,Temp4,Temp_Fluid,TempLeftEnd)\n",
    "        Output2 = CalcTemp.Calc2(Temp1,Temp2,Temp3,Temp4,Temp_Fluid,TempLeftEnd)\n",
    "        Output3 = CalcTemp.Calc3(Temp1,Temp2,Temp3,Temp4,Temp_Fluid,TempLeftEnd)\n",
    "        Output4 = CalcTemp.Calc4(Temp1,Temp2,Temp3,Temp4,Temp_Fluid,TempLeftEnd)\n",
    "        Temp1 = Output1\n",
    "        Temp2 = Output2\n",
    "        Temp3 = Output3\n",
    "        Temp4 = Output4\n",
    "        print (i, \"     \", Temp1, \" \", Temp2, \" \", Temp3, \" \", Temp4)"
   ]
  },
  {
   "cell_type": "code",
   "execution_count": 426,
   "id": "3d82ca93",
   "metadata": {},
   "outputs": [
    {
     "name": "stdout",
     "output_type": "stream",
     "text": [
      "1       170.90380069103475   170.90380069103475   170.90380069103475   169.1580287324968\n",
      "2       153.44819757769116   147.09878147098843   146.71781650458627   145.0231573457073\n",
      "3       141.59052636493178   128.9251789791485   127.02437232645235   125.51827194742756\n",
      "4       133.0985142053046   115.10307857917688   111.2850152073313   109.69089836048198\n",
      "5       126.84078479940837   104.53929755098298   98.80705932856502   96.95286020269465\n",
      "6       122.14692932444767   96.41851218641231   88.95919382343538   86.78374692523194\n",
      "7       118.58312770971276   90.14544550949975   81.20895776856955   78.7150618579365\n",
      "8       115.85388610185248   85.28201358399322   75.12096948484287   72.34070008599736\n",
      "9       113.75081346218953   81.50150449478745   70.34482112250843   67.32006078177332\n",
      "10       112.12307016746331   78.55726849176149   66.6011380010944   63.373917917449724\n"
     ]
    }
   ],
   "source": [
    "\n",
    "TempOverTime(100)"
   ]
  },
  {
   "cell_type": "markdown",
   "id": "0883f7b4",
   "metadata": {},
   "source": [
    "# UNLIMATED POWER!!!\n",
    "## All of this in a singluar cell"
   ]
  },
  {
   "cell_type": "code",
   "execution_count": 15,
   "id": "9ef39fe5",
   "metadata": {},
   "outputs": [],
   "source": [
    "# For materal = steel, in future may replace with an array to better store the values for more complete modelling.\n",
    "Density = 7800 # kg/cu-m\n",
    "Thermal_Conduct = 50 # W/m-C\n",
    "# Heat Capacity\n",
    "Heat_Cap = 470 # J/kg-C\n",
    "\n",
    "# for fancy magical fluid\n",
    "Conv_Coeff = 50 # W/m-C\n",
    "Temp_Fluid = 40 # C\n",
    "# other constants not connected to a materal\n",
    "TempLeftEnd = 200 # C\n",
    "TimeInc = 10 # s\n",
    "\n",
    "\n",
    "\n",
    "\n",
    "class ClassNode1:\n",
    "    Length = 25.0E-3\n",
    "    Dia = 3.0E-3\n",
    "    CircumSurfaceArea = np.pi*Length*Dia\n",
    "    EndSurfaceArea = np.pi*(Dia*1/2)**2\n",
    "    Volume = EndSurfaceArea*Length\n",
    "    ConstThermResistLeft = Length/(EndSurfaceArea*Thermal_Conduct)\n",
    "    ConstThermResistRight = Length/(EndSurfaceArea*Thermal_Conduct)\n",
    "    ConstThermResistCircum = 1/(CircumSurfaceArea*Conv_Coeff)\n",
    "    ThermCapacitance = Density*Volume*Heat_Cap\n",
    "    SumRecipricalResist = 1/ConstThermResistLeft+1/ConstThermResistRight+1/ConstThermResistCircum\n",
    "    Location = 25.0E-3\n",
    "\n",
    "class ClassNode2:\n",
    "    Length = 25.0E-3\n",
    "    Dia = 3.0E-3\n",
    "    CircumSurfaceArea = np.pi*Length*Dia\n",
    "    EndSurfaceArea = np.pi*(Dia*1/2)**2\n",
    "    Volume = EndSurfaceArea*Length\n",
    "    ConstThermResistLeft = Length/(EndSurfaceArea*Thermal_Conduct)\n",
    "    ConstThermResistRight = Length/(EndSurfaceArea*Thermal_Conduct)\n",
    "    ConstThermResistCircum = 1/(CircumSurfaceArea*Conv_Coeff)\n",
    "    ThermCapacitance = Density*Volume*Heat_Cap\n",
    "    SumRecipricalResist = 1/ConstThermResistLeft+1/ConstThermResistRight+1/ConstThermResistCircum\n",
    "    Location = 50.0E-3\n",
    "    \n",
    "class ClassNode3:\n",
    "    Length = 25.0E-3\n",
    "    Dia = 3.0E-3\n",
    "    CircumSurfaceArea = np.pi*Length*Dia\n",
    "    EndSurfaceArea = np.pi*(Dia*1/2)**2\n",
    "    Volume = EndSurfaceArea*Length\n",
    "    ConstThermResistLeft = Length/(EndSurfaceArea*Thermal_Conduct)\n",
    "    ConstThermResistRight = Length/(EndSurfaceArea*Thermal_Conduct)\n",
    "    ConstThermResistCircum = 1/(CircumSurfaceArea*Conv_Coeff)\n",
    "    ThermCapacitance = Density*Volume*Heat_Cap\n",
    "    SumRecipricalResist = 1/ConstThermResistLeft+1/ConstThermResistRight+1/ConstThermResistCircum\n",
    "    Location = 75.0E-3\n",
    "    \n",
    "class ClassNode4:\n",
    "    Length = 25.0E-3\n",
    "    Dia = 3.0E-3\n",
    "    CircumSurfaceArea = np.pi*Length*Dia/2\n",
    "    EndSurfaceArea = np.pi*(Dia*1/2)**2\n",
    "    Volume = EndSurfaceArea*Length/2\n",
    "    ConstThermResistLeft = (Length)/(EndSurfaceArea*Thermal_Conduct)\n",
    "    ConstThermResistRight = 1/(EndSurfaceArea*Conv_Coeff)\n",
    "    ConstThermResistCircum = 1/(CircumSurfaceArea*Conv_Coeff)\n",
    "    ThermCapacitance = Density*Volume*Heat_Cap\n",
    "    SumRecipricalResist = 1/ConstThermResistLeft+1/ConstThermResistRight+1/ConstThermResistCircum\n",
    "    Location = 87.5E-3\n",
    "\n",
    "Node1 = ClassNode1\n",
    "Node2 = ClassNode2\n",
    "Node3 = ClassNode3\n",
    "Node4 = ClassNode4\n",
    "\n",
    "class CalcTemp:\n",
    "    def Calc1(Temp1,Temp2,Temp3,Temp4,Temp_Fluid,TempLeftEnd):\n",
    "        ResistL = (TempLeftEnd - Temp1)/Node1.ConstThermResistLeft\n",
    "        ResistR = (Temp2 - Temp1)/Node1.ConstThermResistRight\n",
    "        ResistC = (Temp_Fluid - Temp1)/Node1.ConstThermResistCircum\n",
    "        Temperature = TimeInc/Node1.ThermCapacitance*(ResistL + ResistR + ResistC)+Temp1\n",
    "        return Temperature\n",
    "    def Calc2(Temp1,Temp2,Temp3,Temp4,Temp_Fluid,TempLeftEnd):\n",
    "        ResistL = (Temp1 - Temp2)/Node2.ConstThermResistLeft\n",
    "        ResistR = (Temp3 - Temp2)/Node2.ConstThermResistRight\n",
    "        ResistC = (Temp_Fluid - Temp2)/Node2.ConstThermResistCircum\n",
    "        Temperature = TimeInc/Node2.ThermCapacitance*(ResistL + ResistR + ResistC)+Temp2\n",
    "        return Temperature\n",
    "    def Calc3(Temp1,Temp2,Temp3,Temp4,Temp_Fluid,TempLeftEnd):\n",
    "        ResistL = (Temp2 - Temp3)/Node3.ConstThermResistLeft\n",
    "        ResistR = (Temp4 - Temp3)/Node3.ConstThermResistRight\n",
    "        ResistC = (Temp_Fluid - Temp3)/Node3.ConstThermResistCircum\n",
    "        Temperature = TimeInc/Node3.ThermCapacitance*(ResistL + ResistR + ResistC)+Temp3\n",
    "        return Temperature\n",
    "    def Calc4(Temp1,Temp2,Temp3,Temp4,Temp_Fluid,TempLeftEnd):\n",
    "        ResistL = (Temp3 - Temp4)/Node4.ConstThermResistLeft\n",
    "        ResistR = (Temp_Fluid - Temp4)/Node4.ConstThermResistRight\n",
    "        ResistC = (Temp_Fluid - Temp4)/Node4.ConstThermResistCircum\n",
    "        Temperature = TimeInc/Node4.ThermCapacitance*(ResistL + ResistR + ResistC)+Temp4\n",
    "        return Temperature\n",
    "CalcTemp = CalcTemp\n",
    "\n",
    "class Simulate:\n",
    "    def AtTime(TimeInput):\n",
    "        Iterations = TimeInput/TimeInc\n",
    "        # if not a whole number will round up\n",
    "        Temp1 = 200\n",
    "        Temp2 = 200\n",
    "        Temp3 = 200\n",
    "        Temp4 = 200\n",
    "        i = 0\n",
    "        while i < Iterations:\n",
    "            i = i + 1\n",
    "            Output1 = CalcTemp.Calc1(Temp1,Temp2,Temp3,Temp4,Temp_Fluid,TempLeftEnd)\n",
    "            Output2 = CalcTemp.Calc2(Temp1,Temp2,Temp3,Temp4,Temp_Fluid,TempLeftEnd)\n",
    "            Output3 = CalcTemp.Calc3(Temp1,Temp2,Temp3,Temp4,Temp_Fluid,TempLeftEnd)\n",
    "            Output4 = CalcTemp.Calc4(Temp1,Temp2,Temp3,Temp4,Temp_Fluid,TempLeftEnd)\n",
    "            Temp1 = Output1\n",
    "            Temp2 = Output2\n",
    "            Temp3 = Output3\n",
    "            Temp4 = Output4\n",
    "        print (Temp1)\n",
    "        print (Temp2)\n",
    "        print (Temp3)\n",
    "        print (Temp4)\n",
    "    def OverTime(TimeInput):\n",
    "        Iterations = TimeInput/TimeInc\n",
    "        # if not a whole number will round up\n",
    "        Temp1 = 200\n",
    "        Temp2 = 200\n",
    "        Temp3 = 200\n",
    "        Temp4 = 200\n",
    "        i = 0\n",
    "        print (\"TimeInc T1-------------------T2-------------------T3-------------------T4\")\n",
    "        while i < Iterations:\n",
    "            i = i + 1\n",
    "            Output1 = CalcTemp.Calc1(Temp1,Temp2,Temp3,Temp4,Temp_Fluid,TempLeftEnd)\n",
    "            Output2 = CalcTemp.Calc2(Temp1,Temp2,Temp3,Temp4,Temp_Fluid,TempLeftEnd)\n",
    "            Output3 = CalcTemp.Calc3(Temp1,Temp2,Temp3,Temp4,Temp_Fluid,TempLeftEnd)\n",
    "            Output4 = CalcTemp.Calc4(Temp1,Temp2,Temp3,Temp4,Temp_Fluid,TempLeftEnd)\n",
    "            Temp1 = Output1\n",
    "            Temp2 = Output2\n",
    "            Temp3 = Output3\n",
    "            Temp4 = Output4\n",
    "            print (i, \"     \", Temp1, \" \", Temp2, \" \", Temp3, \" \", Temp4)\n",
    "Simulate = Simulate"
   ]
  },
  {
   "cell_type": "code",
   "execution_count": 24,
   "id": "f221dded",
   "metadata": {
    "scrolled": true
   },
   "outputs": [
    {
     "name": "stdout",
     "output_type": "stream",
     "text": [
      "141.59052636493178\n",
      "128.9251789791485\n",
      "127.02437232645235\n",
      "125.51827194742756\n"
     ]
    }
   ],
   "source": [
    "Simulate.AtTime(30)"
   ]
  },
  {
   "cell_type": "markdown",
   "id": "776a54a6",
   "metadata": {},
   "source": [
    "### Ok so that worked but it was kinda dumb... sooooo\n",
    "### Rewriting to be a) more useful and b) more elegant"
   ]
  },
  {
   "cell_type": "code",
   "execution_count": 57,
   "id": "1ffe9623",
   "metadata": {},
   "outputs": [],
   "source": [
    "## the constants from before just gonna keep them sepreate now cause its easier\n",
    "\n",
    "# For materal = steel, in future may replace with an array to better store the values for more complete modelling.\n",
    "Density = 7800 # kg/cu-m\n",
    "Thermal_Conduct = 50 # W/m-C\n",
    "# Heat Capacity\n",
    "Heat_Cap = 470 # J/kg-C\n",
    "\n",
    "# for fancy magical fluid\n",
    "Conv_Coeff = 50 # W/m-C\n",
    "Temp_Fluid = 40 # C\n",
    "# other constants not connected to a materal\n",
    "TempLeftEnd = 200 # C\n",
    "TimeInc = 10 # s"
   ]
  },
  {
   "cell_type": "code",
   "execution_count": 58,
   "id": "c5ad2c9d",
   "metadata": {},
   "outputs": [],
   "source": [
    "NumNodes = 4\n",
    "TotalLength = .10\n",
    "Length = TotalLength/NumNodes\n",
    "Dia = 3.0E-3 \n",
    "\n",
    "\n"
   ]
  },
  {
   "cell_type": "code",
   "execution_count": 131,
   "id": "619cba47",
   "metadata": {},
   "outputs": [],
   "source": [
    "# For materal = steel, in future may replace with an array to better store the values for more complete modelling.\n",
    "Density = 7800 # kg/cu-m\n",
    "Thermal_Conduct = 50 # W/m-C\n",
    "# Heat Capacity\n",
    "Heat_Cap = 470 # J/kg-C\n",
    "# for fancy magical fluid\n",
    "Conv_Coeff = 50 # W/m-C\n",
    "Temp_Fluid = 40 # C\n",
    "# other constants not connected to a materal\n",
    "TempLeftEnd = 200 # C\n",
    "TimeInc = 10 # s\n",
    "#\n",
    "NumNodes = 4\n",
    "TotalLength = .10\n",
    "Length = TotalLength/NumNodes\n",
    "Dia = 3.0E-3 \n",
    "class ClassNode:\n",
    "    ConstThermResistLeft = 0\n",
    "    ConstThermResistRight = 0\n",
    "    ConstThermResistCircum = 0\n",
    "    ThermCapacitance = 0\n",
    "    StartTemp = 200\n",
    "    Temp1 = 200\n",
    "    Temp2 = 200\n",
    "    Temp3 = 200\n",
    "    Temp4 = 200\n",
    "    def Properties(self,NodeNumber):\n",
    "        #used to find useful ones\n",
    "        CircumSurfaceArea = np.pi*Length*Dia\n",
    "        EndSurfaceArea = np.pi*(Dia*1/2)**2\n",
    "        Volume = EndSurfaceArea*Length\n",
    "        if NodeNumber == NumNodes:\n",
    "            self.ConstThermResistLeft = (Length)/(EndSurfaceArea*Thermal_Conduct)\n",
    "            self.ConstThermResistRight = 1/(EndSurfaceArea*Conv_Coeff)\n",
    "            self.ConstThermResistCircum = 2/(CircumSurfaceArea*Conv_Coeff)\n",
    "            self.ThermCapacitance = Density*Volume*Heat_Cap/2\n",
    "            #print(\"End\")\n",
    "        else:  \n",
    "            #Length/(EndSurfaceArea*Thermal_Conduct)\n",
    "            self.ConstThermResistLeft = Length/(EndSurfaceArea*Thermal_Conduct)\n",
    "            self.ConstThermResistRight = Length/(EndSurfaceArea*Thermal_Conduct)\n",
    "            self.ConstThermResistCircum = 1/(CircumSurfaceArea*Conv_Coeff)\n",
    "            self.ThermCapacitance = Density*Volume*Heat_Cap\n",
    "            ## not used\n",
    "            #SumRecipricalResist = 1/ConstThermResistLeft+1/ConstThermResistRight+1/ConstThermResistCircum\n",
    "           # print(\"Middle\")\n",
    "        return \n",
    "    def CalcTemp(self,LeftTemp, SelfTemp, RightTemp,Node):\n",
    "        self.Properties(Node)\n",
    "        ResistL = (LeftTemp - SelfTemp)/self.ConstThermResistLeft\n",
    "        ResistR = (RightTemp - SelfTemp)/self.ConstThermResistRight\n",
    "        ResistC = (Temp_Fluid - SelfTemp)/self.ConstThermResistCircum\n",
    "        Temperature = TimeInc/self.ThermCapacitance*(ResistL + ResistR + ResistC)+SelfTemp\n",
    "        return Temperature\n",
    "    def AtTime(self,TimeInput):\n",
    "        i = 0\n",
    "        while i < Iterations:\n",
    "            i = i + 1\n",
    "            Output1 = self.CalcTemp(TempLeftEnd,self.Temp1,self.Temp2,1)\n",
    "            Output2 = self.CalcTemp(self.Temp1,self.Temp2,self.Temp3,2)\n",
    "            Output3 = self.CalcTemp(self.Temp2,self.Temp3,self.Temp4,3)\n",
    "            Output4 = self.CalcTemp(self.Temp3,self.Temp4,Temp_Fluid,4)\n",
    "            self.Temp1 = Output1\n",
    "            self.Temp2 = Output2\n",
    "            self.Temp3 = Output3\n",
    "            self.Temp4 = Output4\n",
    "        print (Output1)\n",
    "        print (Output2)\n",
    "        print (Output3)\n",
    "        print (Output4)\n",
    "    def OverTime(self,TimeInput):\n",
    "        Iterations = TimeInput/TimeInc\n",
    "        # if not a whole number will round up\n",
    "        i = 0\n",
    "        print (\"TimeInc T1-------------------T2-------------------T3-------------------T4\")\n",
    "        while i < Iterations:\n",
    "            i = i + 1\n",
    "            Output1 = self.CalcTemp(TempLeftEnd,self.Temp1,self.Temp2,1)\n",
    "            Output2 = self.CalcTemp(self.Temp1,self.Temp2,self.Temp3,2)\n",
    "            Output3 = self.CalcTemp(self.Temp2,self.Temp3,self.Temp4,3)\n",
    "            Output4 = self.CalcTemp(self.Temp3,self.Temp4,Temp_Fluid,4)\n",
    "            self.Temp1 = Output1\n",
    "            self.Temp2 = Output2\n",
    "            self.Temp3 = Output3\n",
    "            self.Temp4 = Output4\n",
    "            print (i, \"     \", Output1, \" \", Output2, \" \", Output3, \" \", Output4)\n",
    "    \n",
    "Node = ClassNode()"
   ]
  },
  {
   "cell_type": "code",
   "execution_count": 132,
   "id": "ca5183bd",
   "metadata": {
    "scrolled": true
   },
   "outputs": [
    {
     "name": "stdout",
     "output_type": "stream",
     "text": [
      "TimeInc T1-------------------T2-------------------T3-------------------T4\n",
      "1       170.90380069103475   170.90380069103475   170.90380069103475   169.1580287324968\n",
      "2       153.44819757769116   147.09878147098843   146.71781650458627   145.0231573457073\n",
      "3       141.59052636493178   128.9251789791485   127.02437232645235   125.51827194742756\n",
      "4       133.0985142053046   115.10307857917688   111.2850152073313   109.69089836048198\n",
      "5       126.84078479940837   104.53929755098298   98.80705932856502   96.95286020269465\n",
      "6       122.14692932444767   96.41851218641231   88.95919382343538   86.78374692523194\n",
      "7       118.58312770971276   90.14544550949975   81.20895776856955   78.7150618579365\n",
      "8       115.85388610185248   85.28201358399322   75.12096948484287   72.34070008599736\n",
      "9       113.75081346218953   81.50150449478745   70.34482112250843   67.32006078177332\n",
      "10       112.12307016746331   78.55726849176149   66.6011380010944   63.373917917449724\n"
     ]
    }
   ],
   "source": [
    "Node.OverTime(100)"
   ]
  },
  {
   "cell_type": "markdown",
   "id": "c5f3b5d8",
   "metadata": {},
   "source": [
    "time to vibe: make it more controlable"
   ]
  },
  {
   "cell_type": "markdown",
   "id": "80f27f83",
   "metadata": {},
   "source": [
    "input to step function will require, end temp, time.\n",
    "other varibles required for class definition in a seperate block at the top"
   ]
  },
  {
   "cell_type": "code",
   "execution_count": 263,
   "id": "46ff7229",
   "metadata": {},
   "outputs": [],
   "source": [
    "class ClassNode:\n",
    "    Density = 0\n",
    "    Thermal_Conduct = 0\n",
    "    Heat_Cap = 0\n",
    "    Conv_Coeff = 0\n",
    "    Temp_Fluid = 0\n",
    "    TimeInc = 0\n",
    "    NumNodes = 0\n",
    "    TotalLength = 0\n",
    "    Length = 0\n",
    "    Dia = 0\n",
    "    ConstThermResistLeft = 0\n",
    "    ConstThermResistRight = 0\n",
    "    ConstThermResistCircum = 0\n",
    "    ThermCapacitance = 0\n",
    "    Temp1 = 200\n",
    "    Temp2 = 200\n",
    "    Temp3 = 200\n",
    "    Temp4 = 200\n",
    "    def __init__(self,Den,TC,HeatC,NN,TL,D,Convo,TFluid,Inc):\n",
    "        #Material Constants\n",
    "        self.Density = Den\n",
    "        self.Thermal_Conduct = TC\n",
    "        self.Heat_Cap = HeatC\n",
    "        #Our Rod\n",
    "        self.NumNodes = NN\n",
    "        self.TotalLength = TL \n",
    "        self.Length = self.TotalLength/self.NumNodes\n",
    "        self.Dia = D\n",
    "        #magic fluid\n",
    "        self.Conv_Coeff = Convo\n",
    "        self.Temp_Fluid =TFluid\n",
    "        #Time\n",
    "        self.TimeInc = Inc\n",
    "        #weird temp stuff that needs updating\n",
    "  \n",
    "    def Properties(self,NodeNumber):\n",
    "        #used to find useful ones\n",
    "        CircumSurfaceArea = np.pi*self.Length*self.Dia\n",
    "        #print(CircumSurfaceArea)\n",
    "        #print(self.Conv_Coeff)\n",
    "        EndSurfaceArea = np.pi*(self.Dia*1/2)**2\n",
    "        Volume = EndSurfaceArea*self.Length\n",
    "        if NodeNumber == self.NumNodes:\n",
    "            self.ConstThermResistLeft = (self.Length)/(EndSurfaceArea*self.Thermal_Conduct)\n",
    "            self.ConstThermResistRight = 1/(EndSurfaceArea*self.Conv_Coeff)\n",
    "            self.ConstThermResistCircum = 2/(CircumSurfaceArea*self.Conv_Coeff)\n",
    "            self.ThermCapacitance = self.Density*Volume*self.Heat_Cap/2\n",
    "            #print(\"End\")\n",
    "        else:  \n",
    "            #Length/(EndSurfaceArea*Thermal_Conduct)\n",
    "            self.ConstThermResistLeft = self.Length/(EndSurfaceArea*self.Thermal_Conduct)\n",
    "            self.ConstThermResistRight = self.Length/(EndSurfaceArea*self.Thermal_Conduct)\n",
    "            self.ConstThermResistCircum = 1/(CircumSurfaceArea*self.Conv_Coeff)\n",
    "            self.ThermCapacitance = self.Density*Volume*self.Heat_Cap\n",
    "            ## not used\n",
    "            #SumRecipricalResist = 1/ConstThermResistLeft+1/ConstThermResistRight+1/ConstThermResistCircum\n",
    "           # print(\"Middle\")\n",
    "        return \n",
    "    def CalcTemp(self,LeftTemp, SelfTemp, RightTemp,Node):\n",
    "        self.Properties(Node)\n",
    "        ResistL = (LeftTemp - SelfTemp)/self.ConstThermResistLeft\n",
    "        ResistR = (RightTemp - SelfTemp)/self.ConstThermResistRight\n",
    "        ResistC = (self.Temp_Fluid - SelfTemp)/self.ConstThermResistCircum\n",
    "        Temperature = self.TimeInc/self.ThermCapacitance*(ResistL + ResistR + ResistC)+SelfTemp\n",
    "        return Temperature\n",
    "    def AtTime(self,TimeInput,HeaterTemp,StartTemp):\n",
    "        Iterations = TimeInput/self.TimeInc\n",
    "        TempLeftEnd = HeaterTemp\n",
    "        self.Temp1 = StartTemp\n",
    "        self.Temp2 = StartTemp\n",
    "        self.Temp3 = StartTemp\n",
    "        self.Temp4 = StartTemp\n",
    "        i = 0\n",
    "        while i < Iterations:\n",
    "            i = i + 1\n",
    "            Output1 = self.CalcTemp(TempLeftEnd,self.Temp1,self.Temp2,1)\n",
    "            Output2 = self.CalcTemp(self.Temp1,self.Temp2,self.Temp3,2)\n",
    "            Output3 = self.CalcTemp(self.Temp2,self.Temp3,self.Temp4,3)\n",
    "            Output4 = self.CalcTemp(self.Temp3,self.Temp4,self.Temp_Fluid,4)\n",
    "            self.Temp1 = Output1\n",
    "            self.Temp2 = Output2\n",
    "            self.Temp3 = Output3\n",
    "            self.Temp4 = Output4\n",
    "        print (Output1)\n",
    "        print (Output2)\n",
    "        print (Output3)\n",
    "        print (Output4)\n",
    "    def OverTime(self,TimeInput,HeaterTemp,StartTemp):\n",
    "        TempLeftEnd = HeaterTemp\n",
    "        self.Temp1 = StartTemp\n",
    "        self.Temp2 = StartTemp\n",
    "        self.Temp3 = StartTemp\n",
    "        self.Temp4 = StartTemp\n",
    "        Iterations = TimeInput/self.TimeInc\n",
    "        # if not a whole number will round up\n",
    "        i = 0\n",
    "        print (\"TimeInc T1-------------------T2-------------------T3-------------------T4\")\n",
    "        while i < Iterations:\n",
    "            i = i + 1\n",
    "            Output1 = self.CalcTemp(TempLeftEnd,self.Temp1,self.Temp2,1)\n",
    "            Output2 = self.CalcTemp(self.Temp1,self.Temp2,self.Temp3,2)\n",
    "            Output3 = self.CalcTemp(self.Temp2,self.Temp3,self.Temp4,3)\n",
    "            Output4 = self.CalcTemp(self.Temp3,self.Temp4,self.Temp_Fluid,4)\n",
    "            self.Temp1 = Output1\n",
    "            self.Temp2 = Output2\n",
    "            self.Temp3 = Output3\n",
    "            self.Temp4 = Output4\n",
    "            print (i, \"     \", Output1, \" \", Output2, \" \", Output3, \" \", Output4)\n",
    "    def SetTemp(self,StartTemp):\n",
    "        self.Temp1 = StartTemp\n",
    "        self.Temp2 = StartTemp\n",
    "        self.Temp3 = StartTemp\n",
    "        self.Temp4 = StartTemp\n",
    "    def ControlOneStep(self,HeaterTemp):\n",
    "        TempLeftEnd = HeaterTemp\n",
    "        Output1 = self.CalcTemp(TempLeftEnd,self.Temp1,self.Temp2,1)\n",
    "        Output2 = self.CalcTemp(self.Temp1,self.Temp2,self.Temp3,2)\n",
    "        Output3 = self.CalcTemp(self.Temp2,self.Temp3,self.Temp4,3)\n",
    "        Output4 = self.CalcTemp(self.Temp3,self.Temp4,self.Temp_Fluid,4)\n",
    "        self.Temp1 = Output1\n",
    "        self.Temp2 = Output2\n",
    "        self.Temp3 = Output3\n",
    "        self.Temp4 = Output4\n",
    "        print (Output1)\n",
    "        print (Output2)\n",
    "        print (Output3)\n",
    "        print (Output4)\n",
    "        return self.Temp4"
   ]
  },
  {
   "cell_type": "code",
   "execution_count": 264,
   "id": "805347a8",
   "metadata": {},
   "outputs": [],
   "source": [
    "Node = ClassNode(7800,50,470,4,.10,3.0E-3,50,40,10)"
   ]
  },
  {
   "cell_type": "code",
   "execution_count": 265,
   "id": "4a64bc43",
   "metadata": {},
   "outputs": [],
   "source": [
    "Node.SetTemp(200)"
   ]
  },
  {
   "cell_type": "code",
   "execution_count": 299,
   "id": "ee15adfc",
   "metadata": {},
   "outputs": [
    {
     "name": "stdout",
     "output_type": "stream",
     "text": [
      "64.9068197970107\n",
      "50.551837188278704\n",
      "44.95795753253307\n",
      "43.45428488806952\n"
     ]
    },
    {
     "data": {
      "text/plain": [
       "43.45428488806952"
      ]
     },
     "execution_count": 299,
     "metadata": {},
     "output_type": "execute_result"
    }
   ],
   "source": [
    "Node.ControlOneStep(100)"
   ]
  },
  {
   "cell_type": "code",
   "execution_count": 184,
   "id": "2aef5b46",
   "metadata": {
    "scrolled": true
   },
   "outputs": [
    {
     "name": "stdout",
     "output_type": "stream",
     "text": [
      "TimeInc T1-------------------T2-------------------T3-------------------T4\n",
      "1       149.0816512093108   170.90380069103475   170.90380069103475   169.1580287324968\n",
      "2       123.29640784098655   142.33671939096138   146.71781650458627   145.0231573457073\n",
      "3       107.2200806196371   120.527703803658   125.98518802093635   125.51827194742756\n",
      "4       96.32445786234004   104.17057149528392   109.05584298186   109.23735365540135\n",
      "5       88.5960579827955   91.85495373370449   95.47149019817175   95.81178164390386\n",
      "6       82.95855067945683   82.5031106936182   84.6689835204751   84.90485529142246\n",
      "7       78.76590847581774   75.3458938690349   76.12470550855174   76.14594660635582\n",
      "8       75.60369422323755   69.83447317918669   69.39006463591907   69.16909953644003\n",
      "9       73.19394835235491   65.57102561085667   64.09420493354177   63.64283489380014\n",
      "10       71.34375856057846   62.2621143299262   59.93641912367564   59.28238446789575\n"
     ]
    }
   ],
   "source": [
    "Node.OverTime(100,100,200)"
   ]
  },
  {
   "cell_type": "markdown",
   "id": "02d23baf",
   "metadata": {},
   "source": [
    "# I DECLARE ITS READY\n",
    "## Theres some stuff that could use work\n",
    " ##### 1) Making it like cleaner and general\n",
    " ##### 2) changing the temp/output code so that the number of nodes is infinites expandable by adding some like local memory thing\n",
    " ##### 3) feels like it gn"
   ]
  },
  {
   "cell_type": "code",
   "execution_count": 300,
   "id": "19267864",
   "metadata": {},
   "outputs": [],
   "source": [
    "class ClassNode:\n",
    "    Density = 0\n",
    "    Thermal_Conduct = 0\n",
    "    Heat_Cap = 0\n",
    "    Conv_Coeff = 0\n",
    "    Temp_Fluid = 0\n",
    "    TimeInc = 0\n",
    "    NumNodes = 0\n",
    "    TotalLength = 0\n",
    "    Length = 0\n",
    "    Dia = 0\n",
    "    ConstThermResistLeft = 0\n",
    "    ConstThermResistRight = 0\n",
    "    ConstThermResistCircum = 0\n",
    "    ThermCapacitance = 0\n",
    "    Temp1 = 200\n",
    "    Temp2 = 200\n",
    "    Temp3 = 200\n",
    "    Temp4 = 200\n",
    "    def __init__(self,Den,TC,HeatC,NN,TL,D,Convo,Inc):\n",
    "        #Material Constants\n",
    "        self.Density = Den\n",
    "        self.Thermal_Conduct = TC\n",
    "        self.Heat_Cap = HeatC\n",
    "        #Our Rod\n",
    "        self.NumNodes = NN\n",
    "        self.TotalLength = TL \n",
    "        self.Length = self.TotalLength/self.NumNodes\n",
    "        self.Dia = D\n",
    "        #magic fluid\n",
    "        self.Conv_Coeff = Convo\n",
    "        \n",
    "        #Time\n",
    "        self.TimeInc = Inc\n",
    "        #weird temp stuff that needs updating\n",
    "  \n",
    "    def Properties(self,NodeNumber):\n",
    "        #used to find useful ones\n",
    "        CircumSurfaceArea = np.pi*self.Length*self.Dia\n",
    "        #print(CircumSurfaceArea)\n",
    "        #print(self.Conv_Coeff)\n",
    "        EndSurfaceArea = np.pi*(self.Dia*1/2)**2\n",
    "        Volume = EndSurfaceArea*self.Length\n",
    "        if NodeNumber == self.NumNodes:\n",
    "            self.ConstThermResistLeft = (self.Length)/(EndSurfaceArea*self.Thermal_Conduct)\n",
    "            self.ConstThermResistRight = 1/(EndSurfaceArea*self.Conv_Coeff)\n",
    "            self.ConstThermResistCircum = 2/(CircumSurfaceArea*self.Conv_Coeff)\n",
    "            self.ThermCapacitance = self.Density*Volume*self.Heat_Cap/2\n",
    "            #print(\"End\")\n",
    "        else:  \n",
    "            #Length/(EndSurfaceArea*Thermal_Conduct)\n",
    "            self.ConstThermResistLeft = self.Length/(EndSurfaceArea*self.Thermal_Conduct)\n",
    "            self.ConstThermResistRight = self.Length/(EndSurfaceArea*self.Thermal_Conduct)\n",
    "            self.ConstThermResistCircum = 1/(CircumSurfaceArea*self.Conv_Coeff)\n",
    "            self.ThermCapacitance = self.Density*Volume*self.Heat_Cap\n",
    "            ## not used\n",
    "            #SumRecipricalResist = 1/ConstThermResistLeft+1/ConstThermResistRight+1/ConstThermResistCircum\n",
    "           # print(\"Middle\")\n",
    "        return \n",
    "    def CalcTemp(self,LeftTemp, SelfTemp, RightTemp,Node):\n",
    "        self.Properties(Node)\n",
    "        ResistL = (LeftTemp - SelfTemp)/self.ConstThermResistLeft\n",
    "        ResistR = (RightTemp - SelfTemp)/self.ConstThermResistRight\n",
    "        ResistC = (self.Temp_Fluid - SelfTemp)/self.ConstThermResistCircum\n",
    "        Temperature = self.TimeInc/self.ThermCapacitance*(ResistL + ResistR + ResistC)+SelfTemp\n",
    "        return Temperature\n",
    "    def SetTemp(self,StartTemp,TFluid):\n",
    "        self.Temp_Fluid = TFluid\n",
    "        self.Temp1 = StartTemp\n",
    "        self.Temp2 = StartTemp\n",
    "        self.Temp3 = StartTemp\n",
    "        self.Temp4 = StartTemp\n",
    "    def ControlOneStep(self,HeaterTemp):\n",
    "        TempLeftEnd = HeaterTemp\n",
    "        Output1 = self.CalcTemp(TempLeftEnd,self.Temp1,self.Temp2,1)\n",
    "        Output2 = self.CalcTemp(self.Temp1,self.Temp2,self.Temp3,2)\n",
    "        Output3 = self.CalcTemp(self.Temp2,self.Temp3,self.Temp4,3)\n",
    "        Output4 = self.CalcTemp(self.Temp3,self.Temp4,self.Temp_Fluid,4)\n",
    "        self.Temp1 = Output1\n",
    "        self.Temp2 = Output2\n",
    "        self.Temp3 = Output3\n",
    "        self.Temp4 = Output4\n",
    "        return self.Temp4"
   ]
  },
  {
   "cell_type": "code",
   "execution_count": 301,
   "id": "cfb692ef",
   "metadata": {},
   "outputs": [],
   "source": [
    "Node = ClassNode(7800,50,470,4,.10,3.0E-3,50,10)\n",
    "Node.SetTemp(200,40)"
   ]
  },
  {
   "cell_type": "code",
   "execution_count": 302,
   "id": "82f0b635",
   "metadata": {},
   "outputs": [
    {
     "data": {
      "text/plain": [
       "169.1580287324968"
      ]
     },
     "execution_count": 302,
     "metadata": {},
     "output_type": "execute_result"
    }
   ],
   "source": [
    "Node.ControlOneStep(200)"
   ]
  }
 ],
 "metadata": {
  "kernelspec": {
   "display_name": "Python 3 (ipykernel)",
   "language": "python",
   "name": "python3"
  },
  "language_info": {
   "codemirror_mode": {
    "name": "ipython",
    "version": 3
   },
   "file_extension": ".py",
   "mimetype": "text/x-python",
   "name": "python",
   "nbconvert_exporter": "python",
   "pygments_lexer": "ipython3",
   "version": "3.9.12"
  }
 },
 "nbformat": 4,
 "nbformat_minor": 5
}
