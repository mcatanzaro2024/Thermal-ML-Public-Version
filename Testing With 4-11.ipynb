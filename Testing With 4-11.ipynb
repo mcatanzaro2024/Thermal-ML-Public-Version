{
 "cells": [
  {
   "cell_type": "markdown",
   "metadata": {},
   "source": [
    "Imports all libraries as well as my simulator code"
   ]
  },
  {
   "cell_type": "code",
   "execution_count": 1,
   "metadata": {},
   "outputs": [],
   "source": [
    "import numpy as np\n",
    "import pandas as pd\n",
    "import matplotlib.pyplot as plt\n",
    "import csv\n",
    "import MySimulator\n",
    "HeatSimulation = MySimulator.ClassHeatSimulation()"
   ]
  },
  {
   "cell_type": "code",
   "execution_count": null,
   "metadata": {},
   "outputs": [],
   "source": []
  },
  {
   "cell_type": "code",
   "execution_count": 45,
   "metadata": {},
   "outputs": [
    {
     "data": {
      "text/plain": [
       "13.0"
      ]
     },
     "execution_count": 45,
     "metadata": {},
     "output_type": "execute_result"
    }
   ],
   "source": [
    "HeatSimulation.SetDiameter(.3)\n",
    "HeatSimulation.SetNodes(4,.10)\n",
    "HeatSimulation.SetMaterialProperties(7800,470,50)\n",
    "HeatSimulation.SetConvectionProperties(50,40)\n",
    "HeatSimulation.EnableLateralHeatTransfer(False)\n",
    "HeatSimulation.SetHeatSource(200)\n",
    "HeatSimulation.SetInitalTemp(200)\n",
    "HeatSimulation.SuggestedTimeInc(True)"
   ]
  },
  {
   "cell_type": "code",
   "execution_count": 31,
   "metadata": {},
   "outputs": [],
   "source": [
    "HeatSimulation.SetTimeIncrement(10)\n",
    "#HeatSimulation.SetTimeIncrement(HeatSimulation.SuggestedTimeInc(True))"
   ]
  },
  {
   "cell_type": "markdown",
   "metadata": {},
   "source": [
    "Display Capicitance Resistance and Tau (Recommended Time Const)"
   ]
  },
  {
   "cell_type": "code",
   "execution_count": 32,
   "metadata": {
    "scrolled": true
   },
   "outputs": [
    {
     "data": {
      "text/html": [
       "<div>\n",
       "<style scoped>\n",
       "    .dataframe tbody tr th:only-of-type {\n",
       "        vertical-align: middle;\n",
       "    }\n",
       "\n",
       "    .dataframe tbody tr th {\n",
       "        vertical-align: top;\n",
       "    }\n",
       "\n",
       "    .dataframe thead th {\n",
       "        text-align: right;\n",
       "    }\n",
       "</style>\n",
       "<table border=\"1\" class=\"dataframe\">\n",
       "  <thead>\n",
       "    <tr style=\"text-align: right;\">\n",
       "      <th></th>\n",
       "      <th>Node</th>\n",
       "      <th>R_Left</th>\n",
       "      <th>R_Right</th>\n",
       "      <th>R_Circum</th>\n",
       "      <th>ThermCap</th>\n",
       "      <th>C/(1/R)</th>\n",
       "    </tr>\n",
       "  </thead>\n",
       "  <tbody>\n",
       "    <tr>\n",
       "      <th>0</th>\n",
       "      <td>1.0</td>\n",
       "      <td>70.73553</td>\n",
       "      <td>70.735530</td>\n",
       "      <td>0.0</td>\n",
       "      <td>0.647836</td>\n",
       "      <td>22.912500</td>\n",
       "    </tr>\n",
       "    <tr>\n",
       "      <th>1</th>\n",
       "      <td>2.0</td>\n",
       "      <td>70.73553</td>\n",
       "      <td>70.735530</td>\n",
       "      <td>0.0</td>\n",
       "      <td>0.647836</td>\n",
       "      <td>22.912500</td>\n",
       "    </tr>\n",
       "    <tr>\n",
       "      <th>2</th>\n",
       "      <td>3.0</td>\n",
       "      <td>70.73553</td>\n",
       "      <td>70.735530</td>\n",
       "      <td>0.0</td>\n",
       "      <td>0.647836</td>\n",
       "      <td>22.912500</td>\n",
       "    </tr>\n",
       "    <tr>\n",
       "      <th>3</th>\n",
       "      <td>4.0</td>\n",
       "      <td>70.73553</td>\n",
       "      <td>2829.421211</td>\n",
       "      <td>0.0</td>\n",
       "      <td>0.323918</td>\n",
       "      <td>22.353659</td>\n",
       "    </tr>\n",
       "  </tbody>\n",
       "</table>\n",
       "</div>"
      ],
      "text/plain": [
       "   Node    R_Left      R_Right  R_Circum  ThermCap    C/(1/R)\n",
       "0   1.0  70.73553    70.735530       0.0  0.647836  22.912500\n",
       "1   2.0  70.73553    70.735530       0.0  0.647836  22.912500\n",
       "2   3.0  70.73553    70.735530       0.0  0.647836  22.912500\n",
       "3   4.0  70.73553  2829.421211       0.0  0.323918  22.353659"
      ]
     },
     "execution_count": 32,
     "metadata": {},
     "output_type": "execute_result"
    }
   ],
   "source": [
    "HeatSimulation.UpdatePropertiesTable()\n",
    "HeatSimulation.PropsTable"
   ]
  },
  {
   "cell_type": "code",
   "execution_count": 46,
   "metadata": {},
   "outputs": [
    {
     "data": {
      "text/plain": [
       "185.52452837952504"
      ]
     },
     "execution_count": 46,
     "metadata": {},
     "output_type": "execute_result"
    }
   ],
   "source": [
    "HeatSimulation.GetTempatureAtNodeAtTime(90,1400,4)"
   ]
  },
  {
   "cell_type": "code",
   "execution_count": 47,
   "metadata": {},
   "outputs": [
    {
     "data": {
      "text/html": [
       "<div>\n",
       "<style scoped>\n",
       "    .dataframe tbody tr th:only-of-type {\n",
       "        vertical-align: middle;\n",
       "    }\n",
       "\n",
       "    .dataframe tbody tr th {\n",
       "        vertical-align: top;\n",
       "    }\n",
       "\n",
       "    .dataframe thead th {\n",
       "        text-align: right;\n",
       "    }\n",
       "</style>\n",
       "<table border=\"1\" class=\"dataframe\">\n",
       "  <thead>\n",
       "    <tr style=\"text-align: right;\">\n",
       "      <th></th>\n",
       "      <th>Time</th>\n",
       "      <th>Heater</th>\n",
       "      <th>Node1</th>\n",
       "      <th>Node2</th>\n",
       "      <th>Node3</th>\n",
       "      <th>Node4</th>\n",
       "      <th>Convection</th>\n",
       "    </tr>\n",
       "  </thead>\n",
       "  <tbody>\n",
       "    <tr>\n",
       "      <th>0</th>\n",
       "      <td>0.0</td>\n",
       "      <td>200.0</td>\n",
       "      <td>200.000000</td>\n",
       "      <td>200.000000</td>\n",
       "      <td>200.000000</td>\n",
       "      <td>200.000000</td>\n",
       "      <td>40.0</td>\n",
       "    </tr>\n",
       "    <tr>\n",
       "      <th>1</th>\n",
       "      <td>10.0</td>\n",
       "      <td>200.0</td>\n",
       "      <td>200.000000</td>\n",
       "      <td>200.000000</td>\n",
       "      <td>200.000000</td>\n",
       "      <td>198.254228</td>\n",
       "      <td>40.0</td>\n",
       "    </tr>\n",
       "    <tr>\n",
       "      <th>2</th>\n",
       "      <td>20.0</td>\n",
       "      <td>200.0</td>\n",
       "      <td>200.000000</td>\n",
       "      <td>200.000000</td>\n",
       "      <td>199.619035</td>\n",
       "      <td>197.289434</td>\n",
       "      <td>40.0</td>\n",
       "    </tr>\n",
       "    <tr>\n",
       "      <th>3</th>\n",
       "      <td>30.0</td>\n",
       "      <td>200.0</td>\n",
       "      <td>200.000000</td>\n",
       "      <td>199.916865</td>\n",
       "      <td>199.193801</td>\n",
       "      <td>196.589975</td>\n",
       "      <td>40.0</td>\n",
       "    </tr>\n",
       "    <tr>\n",
       "      <th>4</th>\n",
       "      <td>40.0</td>\n",
       "      <td>200.0</td>\n",
       "      <td>199.981858</td>\n",
       "      <td>199.777219</td>\n",
       "      <td>198.783378</td>\n",
       "      <td>196.017832</td>\n",
       "      <td>40.0</td>\n",
       "    </tr>\n",
       "    <tr>\n",
       "      <th>...</th>\n",
       "      <td>...</td>\n",
       "      <td>...</td>\n",
       "      <td>...</td>\n",
       "      <td>...</td>\n",
       "      <td>...</td>\n",
       "      <td>...</td>\n",
       "      <td>...</td>\n",
       "    </tr>\n",
       "    <tr>\n",
       "      <th>136</th>\n",
       "      <td>1360.0</td>\n",
       "      <td>200.0</td>\n",
       "      <td>196.395871</td>\n",
       "      <td>192.786439</td>\n",
       "      <td>189.167274</td>\n",
       "      <td>185.535548</td>\n",
       "      <td>40.0</td>\n",
       "    </tr>\n",
       "    <tr>\n",
       "      <th>137</th>\n",
       "      <td>1370.0</td>\n",
       "      <td>200.0</td>\n",
       "      <td>196.394713</td>\n",
       "      <td>192.784315</td>\n",
       "      <td>189.164533</td>\n",
       "      <td>185.532640</td>\n",
       "      <td>40.0</td>\n",
       "    </tr>\n",
       "    <tr>\n",
       "      <th>138</th>\n",
       "      <td>1380.0</td>\n",
       "      <td>200.0</td>\n",
       "      <td>196.393598</td>\n",
       "      <td>192.782267</td>\n",
       "      <td>189.161890</td>\n",
       "      <td>185.529837</td>\n",
       "      <td>40.0</td>\n",
       "    </tr>\n",
       "    <tr>\n",
       "      <th>139</th>\n",
       "      <td>1390.0</td>\n",
       "      <td>200.0</td>\n",
       "      <td>196.392522</td>\n",
       "      <td>192.780293</td>\n",
       "      <td>189.159342</td>\n",
       "      <td>185.527134</td>\n",
       "      <td>40.0</td>\n",
       "    </tr>\n",
       "    <tr>\n",
       "      <th>140</th>\n",
       "      <td>1400.0</td>\n",
       "      <td>200.0</td>\n",
       "      <td>196.391485</td>\n",
       "      <td>192.778390</td>\n",
       "      <td>189.156886</td>\n",
       "      <td>185.524528</td>\n",
       "      <td>40.0</td>\n",
       "    </tr>\n",
       "  </tbody>\n",
       "</table>\n",
       "<p>141 rows × 7 columns</p>\n",
       "</div>"
      ],
      "text/plain": [
       "       Time  Heater       Node1       Node2       Node3       Node4  \\\n",
       "0       0.0   200.0  200.000000  200.000000  200.000000  200.000000   \n",
       "1      10.0   200.0  200.000000  200.000000  200.000000  198.254228   \n",
       "2      20.0   200.0  200.000000  200.000000  199.619035  197.289434   \n",
       "3      30.0   200.0  200.000000  199.916865  199.193801  196.589975   \n",
       "4      40.0   200.0  199.981858  199.777219  198.783378  196.017832   \n",
       "..      ...     ...         ...         ...         ...         ...   \n",
       "136  1360.0   200.0  196.395871  192.786439  189.167274  185.535548   \n",
       "137  1370.0   200.0  196.394713  192.784315  189.164533  185.532640   \n",
       "138  1380.0   200.0  196.393598  192.782267  189.161890  185.529837   \n",
       "139  1390.0   200.0  196.392522  192.780293  189.159342  185.527134   \n",
       "140  1400.0   200.0  196.391485  192.778390  189.156886  185.524528   \n",
       "\n",
       "     Convection  \n",
       "0          40.0  \n",
       "1          40.0  \n",
       "2          40.0  \n",
       "3          40.0  \n",
       "4          40.0  \n",
       "..          ...  \n",
       "136        40.0  \n",
       "137        40.0  \n",
       "138        40.0  \n",
       "139        40.0  \n",
       "140        40.0  \n",
       "\n",
       "[141 rows x 7 columns]"
      ]
     },
     "execution_count": 47,
     "metadata": {},
     "output_type": "execute_result"
    }
   ],
   "source": [
    "HeatSimulation.AllTemp"
   ]
  },
  {
   "cell_type": "code",
   "execution_count": 35,
   "metadata": {},
   "outputs": [
    {
     "data": {
      "image/png": "[encoded data removed]",
      "text/plain": [
       "<Figure size 432x288 with 1 Axes>"
      ]
     },
     "metadata": {
      "needs_background": "light"
     },
     "output_type": "display_data"
    }
   ],
   "source": [
    "HeatSimulation.GraphResults(\"r = .003\")"
   ]
  },
  {
   "cell_type": "code",
   "execution_count": 48,
   "metadata": {},
   "outputs": [
    {
     "data": {
      "image/png": "[encoded data removed]",
      "text/plain": [
       "<Figure size 432x288 with 1 Axes>"
      ]
     },
     "metadata": {
      "needs_background": "light"
     },
     "output_type": "display_data"
    }
   ],
   "source": [
    "dfValidate4 = HeatSimulation.AllTemp\n",
    "plt.figure()\n",
    "plt.plot(dfValidate4.Time, dfValidate4.Node1, label=\"Node1\")\n",
    "plt.plot(dfValidate4.Time, dfValidate4.Node2, label=\"Node2\")\n",
    "plt.plot(dfValidate4.Time, dfValidate4.Node3, label=\"Node3\")\n",
    "plt.plot(dfValidate4.Time, dfValidate4.Node4, label=\"Node4\")\n",
    "#plt.plot(dfValidate4.Time, dfValidate4.HeatTransfer.TempLeftEnd, label=\"HeatSource\")\n",
    "#plt.plot(dfValidate4.Time, np.ones(np.shape(dfValidate4.Time))*40, label=\"Fluid\")\n",
    "plt.xlabel(\"Time\")\n",
    "plt.ylabel(\"Temperature (C)\")\n",
    "plt.title(\"r = .3\")\n",
    "plt.legend()\n",
    "plt.show()"
   ]
  },
  {
   "cell_type": "code",
   "execution_count": null,
   "metadata": {},
   "outputs": [],
   "source": []
  },
  {
   "cell_type": "code",
   "execution_count": null,
   "metadata": {},
   "outputs": [],
   "source": []
  },
  {
   "cell_type": "code",
   "execution_count": null,
   "metadata": {},
   "outputs": [],
   "source": []
  },
  {
   "cell_type": "code",
   "execution_count": null,
   "metadata": {},
   "outputs": [],
   "source": []
  },
  {
   "cell_type": "code",
   "execution_count": null,
   "metadata": {},
   "outputs": [],
   "source": []
  }
 ],
 "metadata": {
  "kernelspec": {
   "display_name": "Python 3",
   "language": "python",
   "name": "python3"
  },
  "language_info": {
   "codemirror_mode": {
    "name": "ipython",
    "version": 3
   },
   "file_extension": ".py",
   "mimetype": "text/x-python",
   "name": "python",
   "nbconvert_exporter": "python",
   "pygments_lexer": "ipython3",
   "version": "3.6.10"
  }
 },
 "nbformat": 4,
 "nbformat_minor": 4
}
