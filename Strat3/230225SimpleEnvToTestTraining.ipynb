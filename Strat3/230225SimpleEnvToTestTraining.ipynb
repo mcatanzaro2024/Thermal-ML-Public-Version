{
 "cells": [
  {
   "cell_type": "code",
   "execution_count": 1,
   "id": "94a5b221",
   "metadata": {},
   "outputs": [],
   "source": [
    "import gym\n",
    "from gym import Env\n",
    "from gym.spaces import Discrete, Box, Dict, Tuple, MultiBinary, MultiDiscrete \n",
    "import numpy as np\n",
    "import random\n",
    "import os\n",
    "from stable_baselines3 import PPO\n",
    "from stable_baselines3.common.vec_env import VecFrameStack\n",
    "\n",
    "from stable_baselines3.common.evaluation import evaluate_policy\n",
    "import numpy as np\n",
    "import pandas as pd\n",
    "import matplotlib.pyplot as plt\n",
    "import csv"
   ]
  },
  {
   "cell_type": "markdown",
   "id": "967efce9",
   "metadata": {},
   "source": [
    "# Environment\n",
    "\n",
    "Create a very simple custom environment to test our understanding of:\n",
    "* Steps\n",
    "* Epsiodes"
   ]
  },
  {
   "cell_type": "code",
   "execution_count": 2,
   "id": "c3315087-bcac-464a-9ae5-8f029ae8e4ad",
   "metadata": {},
   "outputs": [],
   "source": [
    "from stable_baselines3.common.env_checker import check_env"
   ]
  },
  {
   "cell_type": "code",
   "execution_count": 3,
   "id": "861ac2c3",
   "metadata": {},
   "outputs": [
    {
     "name": "stdout",
     "output_type": "stream",
     "text": [
      "Init\n"
     ]
    },
    {
     "name": "stderr",
     "output_type": "stream",
     "text": [
      "e:\\anaconda3\\lib\\site-packages\\gym\\spaces\\box.py:73: UserWarning: \u001b[33mWARN: Box bound precision lowered by casting to float32\u001b[0m\n",
      "  logger.warn(\n"
     ]
    }
   ],
   "source": [
    "class EnvSimpleFixedDuration(Env):\n",
    "    listActionTemperature = (100, 130, 150)\n",
    "    listObservationTemperature = (100, 130, 150)\n",
    "\n",
    "    def __init__(self):\n",
    "        self.action_space = Discrete(3)\n",
    "        #self.observation_space =  Discrete(3)\n",
    "        self.observation_space = Box(low=np.array([90]), high=np.array([200]))\n",
    "        print(\"Init\")\n",
    "        self.isVerbose = False\n",
    "        self.reset()\n",
    "\n",
    "    def setVerbose(self):\n",
    "        self.isVerbose = True\n",
    "\n",
    "    def step(self, action):\n",
    "        temperatureAction = self.listActionTemperature[action]\n",
    "\n",
    "        self.state = temperatureAction\n",
    "        self.stepCurrent += 1\n",
    "\n",
    "        if (self.state == 130):\n",
    "            reward = 1\n",
    "        else:\n",
    "            reward = 0\n",
    "\n",
    "        done = self.stepCurrent > 3\n",
    "\n",
    "        #obs = self.listObservationTemperature.index(self.state)\n",
    "        obs = np.array([self.state], dtype=np.float32)\n",
    "\n",
    "        #info = self.listObservationTemperature[obs]\n",
    "        info = {}\n",
    "\n",
    "        if(self.isVerbose):\n",
    "            print(\"....Step: \" + str(self.stepCurrent))\n",
    "            print(\"......Observation: \" + str(obs))\n",
    "            print(\"......     Reward: \" + str(reward))\n",
    "            print(\"......       Info: \" + str(info))\n",
    "\n",
    "        return obs, reward, done, info\n",
    "\n",
    "    def render(self):\n",
    "        pass\n",
    "    \n",
    "    def reset(self):\n",
    "        self.state = 100\n",
    "        self.stepCurrent = 0\n",
    "\n",
    "        if(self.isVerbose):\n",
    "            print(\"..Reset\")\n",
    "            \n",
    "        return np.array([self.state], dtype=np.float32)\n",
    "env = EnvSimpleFixedDuration()\n",
    "check_env(env, warn=True)"
   ]
  },
  {
   "cell_type": "markdown",
   "id": "dc1ea9c4",
   "metadata": {},
   "source": [
    "# Test the environment"
   ]
  },
  {
   "cell_type": "code",
   "execution_count": 4,
   "id": "501db575",
   "metadata": {},
   "outputs": [
    {
     "name": "stdout",
     "output_type": "stream",
     "text": [
      "Init\n",
      "Episode: 1\n",
      ".Score: 1\n",
      "Episode: 2\n",
      ".Score: 0\n",
      "Episode: 3\n",
      ".Score: 2\n"
     ]
    }
   ],
   "source": [
    "env = EnvSimpleFixedDuration()\n",
    "\n",
    "episodeMax = 3\n",
    "for episode in range(1, episodeMax+1):\n",
    "    print(\"Episode: \" + str(episode))\n",
    "    state = env.reset()\n",
    "    done = False\n",
    "    rewardTotal = 0\n",
    "    while not done:\n",
    "        env.render()\n",
    "        action = env.action_space.sample()\n",
    "        obs, reward, done, info = env.step(action)\n",
    "        rewardTotal += reward\n",
    "    print(\".Score: \" + str(rewardTotal))\n",
    "env.close()"
   ]
  },
  {
   "cell_type": "markdown",
   "id": "781f9ee9",
   "metadata": {},
   "source": [
    "# Training"
   ]
  },
  {
   "cell_type": "code",
   "execution_count": 5,
   "id": "a4514c58",
   "metadata": {},
   "outputs": [
    {
     "name": "stdout",
     "output_type": "stream",
     "text": [
      "Using cpu device\n",
      "Wrapping the env with a `Monitor` wrapper\n",
      "Wrapping the env in a DummyVecEnv.\n"
     ]
    }
   ],
   "source": [
    "log_path = os.path.join('Training', 'Logs')\n",
    "model = PPO(\"MlpPolicy\", env, verbose=1, tensorboard_log=log_path)"
   ]
  },
  {
   "cell_type": "code",
   "execution_count": 8,
   "id": "7060d37d",
   "metadata": {},
   "outputs": [
    {
     "name": "stdout",
     "output_type": "stream",
     "text": [
      "Logging to Training\\Logs\\PPO_5\n",
      "---------------------------------\n",
      "| rollout/           |          |\n",
      "|    ep_len_mean     | 4        |\n",
      "|    ep_rew_mean     | 1.81     |\n",
      "| time/              |          |\n",
      "|    fps             | 1606     |\n",
      "|    iterations      | 1        |\n",
      "|    time_elapsed    | 1        |\n",
      "|    total_timesteps | 2048     |\n",
      "---------------------------------\n",
      "-----------------------------------------\n",
      "| rollout/                |             |\n",
      "|    ep_len_mean          | 4           |\n",
      "|    ep_rew_mean          | 2.43        |\n",
      "| time/                   |             |\n",
      "|    fps                  | 1098        |\n",
      "|    iterations           | 2           |\n",
      "|    time_elapsed         | 3           |\n",
      "|    total_timesteps      | 4096        |\n",
      "| train/                  |             |\n",
      "|    approx_kl            | 0.023139067 |\n",
      "|    clip_fraction        | 0.769       |\n",
      "|    clip_range           | 0.2         |\n",
      "|    entropy_loss         | -0.975      |\n",
      "|    explained_variance   | 0.0277      |\n",
      "|    learning_rate        | 0.0003      |\n",
      "|    loss                 | 0.26        |\n",
      "|    n_updates            | 20          |\n",
      "|    policy_gradient_loss | -0.107      |\n",
      "|    value_loss           | 0.792       |\n",
      "-----------------------------------------\n",
      "-----------------------------------------\n",
      "| rollout/                |             |\n",
      "|    ep_len_mean          | 4           |\n",
      "|    ep_rew_mean          | 2.74        |\n",
      "| time/                   |             |\n",
      "|    fps                  | 990         |\n",
      "|    iterations           | 3           |\n",
      "|    time_elapsed         | 6           |\n",
      "|    total_timesteps      | 6144        |\n",
      "| train/                  |             |\n",
      "|    approx_kl            | 0.028856384 |\n",
      "|    clip_fraction        | 0.654       |\n",
      "|    clip_range           | 0.2         |\n",
      "|    entropy_loss         | -0.837      |\n",
      "|    explained_variance   | 0.0627      |\n",
      "|    learning_rate        | 0.0003      |\n",
      "|    loss                 | 0.35        |\n",
      "|    n_updates            | 30          |\n",
      "|    policy_gradient_loss | -0.095      |\n",
      "|    value_loss           | 0.898       |\n",
      "-----------------------------------------\n",
      "----------------------------------------\n",
      "| rollout/                |            |\n",
      "|    ep_len_mean          | 4          |\n",
      "|    ep_rew_mean          | 3.31       |\n",
      "| time/                   |            |\n",
      "|    fps                  | 918        |\n",
      "|    iterations           | 4          |\n",
      "|    time_elapsed         | 8          |\n",
      "|    total_timesteps      | 8192       |\n",
      "| train/                  |            |\n",
      "|    approx_kl            | 0.05364304 |\n",
      "|    clip_fraction        | 0.482      |\n",
      "|    clip_range           | 0.2        |\n",
      "|    entropy_loss         | -0.621     |\n",
      "|    explained_variance   | 0.106      |\n",
      "|    learning_rate        | 0.0003     |\n",
      "|    loss                 | 0.345      |\n",
      "|    n_updates            | 40         |\n",
      "|    policy_gradient_loss | -0.075     |\n",
      "|    value_loss           | 0.915      |\n",
      "----------------------------------------\n",
      "---------------------------------------\n",
      "| rollout/                |           |\n",
      "|    ep_len_mean          | 4         |\n",
      "|    ep_rew_mean          | 3.78      |\n",
      "| time/                   |           |\n",
      "|    fps                  | 896       |\n",
      "|    iterations           | 5         |\n",
      "|    time_elapsed         | 11        |\n",
      "|    total_timesteps      | 10240     |\n",
      "| train/                  |           |\n",
      "|    approx_kl            | 0.0651737 |\n",
      "|    clip_fraction        | 0.164     |\n",
      "|    clip_range           | 0.2       |\n",
      "|    entropy_loss         | -0.381    |\n",
      "|    explained_variance   | 0.193     |\n",
      "|    learning_rate        | 0.0003    |\n",
      "|    loss                 | 0.311     |\n",
      "|    n_updates            | 50        |\n",
      "|    policy_gradient_loss | -0.0384   |\n",
      "|    value_loss           | 0.853     |\n",
      "---------------------------------------\n",
      "-----------------------------------------\n",
      "| rollout/                |             |\n",
      "|    ep_len_mean          | 4           |\n",
      "|    ep_rew_mean          | 3.85        |\n",
      "| time/                   |             |\n",
      "|    fps                  | 885         |\n",
      "|    iterations           | 6           |\n",
      "|    time_elapsed         | 13          |\n",
      "|    total_timesteps      | 12288       |\n",
      "| train/                  |             |\n",
      "|    approx_kl            | 0.007412007 |\n",
      "|    clip_fraction        | 0.0595      |\n",
      "|    clip_range           | 0.2         |\n",
      "|    entropy_loss         | -0.234      |\n",
      "|    explained_variance   | 0.334       |\n",
      "|    learning_rate        | 0.0003      |\n",
      "|    loss                 | 0.255       |\n",
      "|    n_updates            | 60          |\n",
      "|    policy_gradient_loss | -0.0153     |\n",
      "|    value_loss           | 0.753       |\n",
      "-----------------------------------------\n"
     ]
    },
    {
     "data": {
      "text/plain": [
       "<stable_baselines3.ppo.ppo.PPO at 0x270e0f88f40>"
      ]
     },
     "execution_count": 8,
     "metadata": {},
     "output_type": "execute_result"
    }
   ],
   "source": [
    "model.learn(total_timesteps=12000)"
   ]
  },
  {
   "cell_type": "code",
   "execution_count": 7,
   "id": "3f1a73ee-0650-47f5-8443-c35acecfd71a",
   "metadata": {},
   "outputs": [
    {
     "name": "stdout",
     "output_type": "stream",
     "text": [
      "^C\n"
     ]
    }
   ],
   "source": [
    "!tensorboard --logdir={log_path}"
   ]
  },
  {
   "cell_type": "code",
   "execution_count": null,
   "id": "246d632e-885d-46c7-bcdf-a019a1ffcb93",
   "metadata": {},
   "outputs": [],
   "source": []
  }
 ],
 "metadata": {
  "kernelspec": {
   "display_name": "Python 3",
   "language": "python",
   "name": "python3"
  },
  "language_info": {
   "codemirror_mode": {
    "name": "ipython",
    "version": 3
   },
   "file_extension": ".py",
   "mimetype": "text/x-python",
   "name": "python",
   "nbconvert_exporter": "python",
   "pygments_lexer": "ipython3",
   "version": "3.8.8"
  },
  "vscode": {
   "interpreter": {
    "hash": "b4209db2c9115bd9d8a651c5b93a2ec7d7b7d7b144c90a4aaccedfe82b175c95"
   }
  }
 },
 "nbformat": 4,
 "nbformat_minor": 5
}
