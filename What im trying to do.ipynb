{
 "cells": [
  {
   "cell_type": "markdown",
   "metadata": {},
   "source": [
    "   Testing with alumin v cast iron\n",
    "  "
   ]
  },
  {
   "cell_type": "code",
   "execution_count": 1,
   "metadata": {},
   "outputs": [],
   "source": [
    "import numpy as np\n",
    "import pandas as pd\n",
    "import matplotlib.pyplot as plt\n",
    "import csv\n",
    "import MySimulator\n",
    "HeatSimulation = MySimulator.ClassHeatSimulation()"
   ]
  },
  {
   "cell_type": "markdown",
   "metadata": {},
   "source": [
    "Aluminum info = density 2,707 k = 206 W/m C,  c = 896\n",
    "cast iron info = density 7753  k = 36 W/m C, c = 486"
   ]
  },
  {
   "cell_type": "code",
   "execution_count": 24,
   "metadata": {},
   "outputs": [],
   "source": [
    "HeatSimulation.SetDiameter(.003)\n",
    "HeatSimulation.SetNodes(4,.005)\n",
    "HeatSimulation.SetConvectionProperties(50,25)\n",
    "HeatSimulation.EnableLateralHeatTransfer(False)\n",
    "HeatSimulation.SetHeatSource(130)\n",
    "HeatSimulation.SetInitalTemp(25)"
   ]
  },
  {
   "cell_type": "markdown",
   "metadata": {},
   "source": [
    "for aluminium"
   ]
  },
  {
   "cell_type": "code",
   "execution_count": 11,
   "metadata": {},
   "outputs": [
    {
     "data": {
      "text/plain": [
       "10"
      ]
     },
     "execution_count": 11,
     "metadata": {},
     "output_type": "execute_result"
    }
   ],
   "source": [
    "HeatSimulation.SetTimeIncrement(HeatSimulation.SuggestedTimeInc(True))\n",
    "HeatSimulation.TimeInc"
   ]
  },
  {
   "cell_type": "code",
   "execution_count": 12,
   "metadata": {},
   "outputs": [],
   "source": []
  },
  {
   "cell_type": "code",
   "execution_count": 5,
   "metadata": {},
   "outputs": [],
   "source": [
    "HeatSimulation.SetMaterialProperties(2707,206,896)"
   ]
  },
  {
   "cell_type": "code",
   "execution_count": 23,
   "metadata": {},
   "outputs": [
    {
     "data": {
      "text/html": [
       "<div>\n",
       "<style scoped>\n",
       "    .dataframe tbody tr th:only-of-type {\n",
       "        vertical-align: middle;\n",
       "    }\n",
       "\n",
       "    .dataframe tbody tr th {\n",
       "        vertical-align: top;\n",
       "    }\n",
       "\n",
       "    .dataframe thead th {\n",
       "        text-align: right;\n",
       "    }\n",
       "</style>\n",
       "<table border=\"1\" class=\"dataframe\">\n",
       "  <thead>\n",
       "    <tr style=\"text-align: right;\">\n",
       "      <th></th>\n",
       "      <th>Time</th>\n",
       "      <th>Node1</th>\n",
       "      <th>Node2</th>\n",
       "      <th>Node3</th>\n",
       "      <th>Node4</th>\n",
       "    </tr>\n",
       "  </thead>\n",
       "  <tbody>\n",
       "    <tr>\n",
       "      <th>0</th>\n",
       "      <td>0.0</td>\n",
       "      <td>200.000000</td>\n",
       "      <td>200.000000</td>\n",
       "      <td>200.000000</td>\n",
       "      <td>200.000000</td>\n",
       "    </tr>\n",
       "    <tr>\n",
       "      <th>1</th>\n",
       "      <td>10.0</td>\n",
       "      <td>170.903801</td>\n",
       "      <td>170.903801</td>\n",
       "      <td>170.903801</td>\n",
       "      <td>169.158029</td>\n",
       "    </tr>\n",
       "    <tr>\n",
       "      <th>2</th>\n",
       "      <td>20.0</td>\n",
       "      <td>153.448198</td>\n",
       "      <td>147.098781</td>\n",
       "      <td>146.717817</td>\n",
       "      <td>145.023157</td>\n",
       "    </tr>\n",
       "    <tr>\n",
       "      <th>3</th>\n",
       "      <td>30.0</td>\n",
       "      <td>141.590526</td>\n",
       "      <td>128.925179</td>\n",
       "      <td>127.024372</td>\n",
       "      <td>125.518272</td>\n",
       "    </tr>\n",
       "    <tr>\n",
       "      <th>4</th>\n",
       "      <td>40.0</td>\n",
       "      <td>133.098514</td>\n",
       "      <td>115.103079</td>\n",
       "      <td>111.285015</td>\n",
       "      <td>109.690898</td>\n",
       "    </tr>\n",
       "    <tr>\n",
       "      <th>5</th>\n",
       "      <td>50.0</td>\n",
       "      <td>126.840785</td>\n",
       "      <td>104.539298</td>\n",
       "      <td>98.807059</td>\n",
       "      <td>96.952860</td>\n",
       "    </tr>\n",
       "    <tr>\n",
       "      <th>6</th>\n",
       "      <td>60.0</td>\n",
       "      <td>122.146929</td>\n",
       "      <td>96.418512</td>\n",
       "      <td>88.959194</td>\n",
       "      <td>86.783747</td>\n",
       "    </tr>\n",
       "    <tr>\n",
       "      <th>7</th>\n",
       "      <td>70.0</td>\n",
       "      <td>118.583128</td>\n",
       "      <td>90.145446</td>\n",
       "      <td>81.208958</td>\n",
       "      <td>78.715062</td>\n",
       "    </tr>\n",
       "    <tr>\n",
       "      <th>8</th>\n",
       "      <td>80.0</td>\n",
       "      <td>115.853886</td>\n",
       "      <td>85.282014</td>\n",
       "      <td>75.120969</td>\n",
       "      <td>72.340700</td>\n",
       "    </tr>\n",
       "    <tr>\n",
       "      <th>9</th>\n",
       "      <td>90.0</td>\n",
       "      <td>113.750813</td>\n",
       "      <td>81.501504</td>\n",
       "      <td>70.344821</td>\n",
       "      <td>67.320061</td>\n",
       "    </tr>\n",
       "    <tr>\n",
       "      <th>10</th>\n",
       "      <td>100.0</td>\n",
       "      <td>112.123070</td>\n",
       "      <td>78.557268</td>\n",
       "      <td>66.601138</td>\n",
       "      <td>63.373918</td>\n",
       "    </tr>\n",
       "  </tbody>\n",
       "</table>\n",
       "</div>"
      ],
      "text/plain": [
       "     Time       Node1       Node2       Node3       Node4\n",
       "0     0.0  200.000000  200.000000  200.000000  200.000000\n",
       "1    10.0  170.903801  170.903801  170.903801  169.158029\n",
       "2    20.0  153.448198  147.098781  146.717817  145.023157\n",
       "3    30.0  141.590526  128.925179  127.024372  125.518272\n",
       "4    40.0  133.098514  115.103079  111.285015  109.690898\n",
       "5    50.0  126.840785  104.539298   98.807059   96.952860\n",
       "6    60.0  122.146929   96.418512   88.959194   86.783747\n",
       "7    70.0  118.583128   90.145446   81.208958   78.715062\n",
       "8    80.0  115.853886   85.282014   75.120969   72.340700\n",
       "9    90.0  113.750813   81.501504   70.344821   67.320061\n",
       "10  100.0  112.123070   78.557268   66.601138   63.373918"
      ]
     },
     "execution_count": 23,
     "metadata": {},
     "output_type": "execute_result"
    }
   ],
   "source": [
    "HeatSimulation.GetTempatureAtNodeAtTime(0,100,1)\n",
    "HeatSimulation.AllTemp"
   ]
  },
  {
   "cell_type": "code",
   "execution_count": 22,
   "metadata": {},
   "outputs": [],
   "source": []
  }
 ],
 "metadata": {
  "kernelspec": {
   "display_name": "Python 3",
   "language": "python",
   "name": "python3"
  },
  "language_info": {
   "codemirror_mode": {
    "name": "ipython",
    "version": 3
   },
   "file_extension": ".py",
   "mimetype": "text/x-python",
   "name": "python",
   "nbconvert_exporter": "python",
   "pygments_lexer": "ipython3",
   "version": "3.6.10"
  }
 },
 "nbformat": 4,
 "nbformat_minor": 4
}
