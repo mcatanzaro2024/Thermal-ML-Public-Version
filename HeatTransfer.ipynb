{
 "cells": [
  {
   "cell_type": "code",
   "execution_count": 1,
   "metadata": {},
   "outputs": [],
   "source": [
    "import numpy as np\n",
    "import pandas as pd\n",
    "import matplotlib.pyplot as plt\n",
    "import csv"
   ]
  },
  {
   "cell_type": "code",
   "execution_count": 3,
   "metadata": {},
   "outputs": [],
   "source": [
    "class ClassHeatSimulation: \n",
    "    #presets\n",
    "    TempLeftEnd = 200\n",
    "    Temp_Fluid = 40\n",
    "    TimeInc = 10\n",
    "    Density = 7800\n",
    "    Thermal_Conduct = 50\n",
    "    Heat_Cap = 470\n",
    "    Conv_Coeff = 50\n",
    "    NumNodes = 4\n",
    "    TotalLength = .1\n",
    "    Length = 25.0E-3\n",
    "    Dia = 3.0E-3\n",
    "    LateralHeat = True\n",
    "    InitialTemp = 200\n",
    "    GlobalTime = 0\n",
    "    ConstThermResistLeft = 0\n",
    "    ConstThermResistRight = 0\n",
    "    ConstThermResistCircum = 0\n",
    "    ThermCapacitance = 0\n",
    "    Volume = 0\n",
    "    Temps = [0]\n",
    "    Tempatures = {'Time':[0]}\n",
    "    AllTemp = pd.DataFrame(Tempatures)\n",
    "    SugTime = []\n",
    "    LocalTemps = []\n",
    "    Props = []\n",
    "    PropsTable = pd.DataFrame(Props)\n",
    "    \n",
    "    \n",
    "    def SetNodes(self,InputNumberNodes, InputTotalThickness):\n",
    "        self.NumNodes = InputNumberNodes\n",
    "        self.TotalLength = InputTotalThickness\n",
    "        self.Length = self.TotalLength/self.NumNodes\n",
    "        self.SuggestedTimeInc(True)\n",
    "    def SetDiameter(self,D):\n",
    "        self.Dia = D\n",
    "    def SetMaterialProperties(self,InputDensity,InputHeatCapacity,InputThermalConductivity):\n",
    "        self.Density = InputDensity\n",
    "        self.Heat_Cap = InputHeatCapacity\n",
    "        self.Thermal_Conduct = InputThermalConductivity\n",
    "    def SetConvectionProperties(self,InputConvectionCoeff,InputTempature):\n",
    "        self.Conv_Coeff = InputConvectionCoeff\n",
    "        self.Temp_Fluid = InputTempature\n",
    "    def EnableLateralHeatTransfer(self,Boolean):\n",
    "        self.LateralHeat = Boolean\n",
    "    def SetTimeIncrement(self,InputTimeInc):\n",
    "        self.TimeInc = InputTimeInc\n",
    "        #give recomendation based on JP Holman\n",
    "        #Recommendation = \"Confirmed\"\n",
    "        #print(Recommendation)\n",
    "    def SetHeatSource(self, InputTemp):\n",
    "        self.TempLeftEnd = InputTemp\n",
    "    def SetInitalTemp(self,InputInitTemp):\n",
    "        self.InitialTemp = InputInitTemp\n",
    "    def _SetInitalTempProfile(self,InputArrayTemp):\n",
    "        #only works if # of nodes Matches\n",
    "        self.Temps = InputArrayTemp\n",
    "        self.__CreateDF()\n",
    "    def SaveDFtoCSV(self, Name):\n",
    "        print(self.AllTemp)\n",
    "        self.AllTemp.to_csv(Name, index=False)\n",
    "    def GetTempatureAtNodeAtTime(self,StartTime,EndTime,Node):\n",
    "        self.UpdatePropertiesTable()\n",
    "        if Node > self.NumNodes or Node <= 0:\n",
    "            return \"Error: Node Number Invalid\"\n",
    "        Time = EndTime - StartTime\n",
    "        if Time % self.TimeInc != 0:\n",
    "            print(\"Time Invalid, rounding...\")\n",
    "            NumSteps = Time/self.TimeInc\n",
    "            NumSteps = round(NumSteps)\n",
    "            print(NumSteps)\n",
    "            NewTime = NumSteps * self.TimeInc\n",
    "            Print = \"New Timestep is \" + str(NewTime)\n",
    "            print(Print)\n",
    "        else:\n",
    "            NumSteps = Time/self.TimeInc\n",
    "        #print(NumSteps)\n",
    "        if StartTime == 0:\n",
    "            self.GlobalTime = 0\n",
    "            self.CreateDF()\n",
    "            Step = 0\n",
    "            while Step < NumSteps:\n",
    "                Step = Step + 1\n",
    "                self.CalculateAllNodes() \n",
    "        elif StartTime == self.GlobalTime:\n",
    "            Step = 0\n",
    "            while Step < NumSteps:\n",
    "                #print(\"bruh\")\n",
    "                Step = Step + 1\n",
    "                self.CalculateAllNodes() \n",
    "        elif StartTime != self.GlobalTime or StartTime != 0:\n",
    "            #print(\"why\")\n",
    "            self.GlobalTime = 0\n",
    "            self.CreateDF()\n",
    "            if StartTime % self.TimeInc != 0:\n",
    "                print(\"Time Window Invalid, approximating\")\n",
    "                NumPreSteps = StartTime/self.TimeInc\n",
    "                NumPreSteps = round(NumPreSteps)\n",
    "            else:\n",
    "                NumPreSteps = StartTime/self.TimeInc\n",
    "            PreStep = 0\n",
    "            while PreStep < NumPreSteps:\n",
    "                PreStep = PreStep + 1\n",
    "                self.CalculateAllNodes()\n",
    "            Step = 0\n",
    "            while Step < NumSteps:\n",
    "                Step = Step + 1\n",
    "                self.CalculateAllNodes() \n",
    "        print(self.GlobalTime)\n",
    "        self.UpdatePropertiesTable()\n",
    "        return self.Temps[Node]\n",
    "    \n",
    "    def Properties(self,NodeNumber):\n",
    "        CircumSurfaceArea = np.pi*self.Length*self.Dia\n",
    "        EndSurfaceArea = np.pi*(self.Dia*1/2)**2\n",
    "        self.Volume = EndSurfaceArea*self.Length\n",
    "        self.ConstThermResistLeft = self.Length/(EndSurfaceArea*self.Thermal_Conduct)\n",
    "        if NodeNumber == self.NumNodes:\n",
    "            # for final Node\n",
    "            self.ConstThermResistRight = 1/(EndSurfaceArea*self.Conv_Coeff)\n",
    "            self.ConstThermResistCircum = 2/(CircumSurfaceArea*self.Conv_Coeff)\n",
    "            self.ThermCapacitance = self.Density*self.Volume*self.Heat_Cap/2\n",
    "        else:  \n",
    "            self.ConstThermResistRight = self.Length/(EndSurfaceArea*self.Thermal_Conduct)\n",
    "            self.ConstThermResistCircum = 1/(CircumSurfaceArea*self.Conv_Coeff)\n",
    "            self.ThermCapacitance = self.Density*self.Volume*self.Heat_Cap\n",
    "        return \n",
    "    def CalcTemp(self,LeftTemp, SelfTemp, RightTemp,NodeN):\n",
    "        self.Properties(NodeN)\n",
    "        ResistL = (LeftTemp - SelfTemp)/self.ConstThermResistLeft\n",
    "        ResistR = (RightTemp - SelfTemp)/self.ConstThermResistRight\n",
    "        if self.LateralHeat == True:\n",
    "            ResistC = (self.Temp_Fluid - SelfTemp)/self.ConstThermResistCircum\n",
    "        else:\n",
    "            ResistC = 0\n",
    "        Temperature = self.TimeInc/self.ThermCapacitance*(ResistL + ResistR + ResistC)+SelfTemp\n",
    "        return Temperature \n",
    "    def UpdatePropertiesTable(self):\n",
    "        self.Props = {'Node':[1]}\n",
    "        self.PropsTable = pd.DataFrame(self.Props)\n",
    "        Values = [0,0,0,0,0]\n",
    "        a = 0\n",
    "        self.PropsTable['R_Left'] = 0\n",
    "        self.PropsTable['R_Right'] = 0\n",
    "        self.PropsTable['R_Circum'] = 0\n",
    "        self.PropsTable['ThermCap'] = 0\n",
    "        while a < self.NumNodes:\n",
    "            a = a + 1\n",
    "            self.Properties(a)\n",
    "            Values[0] = a\n",
    "            Values[1] = self.ConstThermResistLeft\n",
    "            Values[2] = self.ConstThermResistRight\n",
    "            Values[3] = self.ConstThermResistCircum\n",
    "            Values[4] = self.ThermCapacitance\n",
    "            \n",
    "            if a == 1:\n",
    "                self.PropsTable.loc[0] = Values\n",
    "            else:\n",
    "                self.PropsTable.loc[len(self.PropsTable.index)] = Values\n",
    "        #print(self.PropsTable)\n",
    "        \n",
    "        \n",
    "        \n",
    "        \n",
    "        \n",
    "        \n",
    "    def CreateDF(self):\n",
    "        self.Tempatures = {'Time':[0]}\n",
    "        self.AllTemp = pd.DataFrame(self.Tempatures)\n",
    "        self.InputTemp(self.InitialTemp)\n",
    "        a = 0\n",
    "        while a < self.NumNodes:\n",
    "            a = a + 1\n",
    "            ColumnName = 'Node' + str(a)\n",
    "            self.AllTemp[ColumnName] = [self.Temps[a]]\n",
    "    def UpdateDF(self, CurrentTemp):\n",
    "        self.AllTemp.loc[len(self.AllTemp.index)] = CurrentTemp\n",
    "        #print(self.AllTemp)\n",
    "    def CalculateAllNodes(self):\n",
    "        self.LocalTemps.clear()\n",
    "        self.LocalTemps.append(0)\n",
    "        LNode = 0\n",
    "        while LNode < self.NumNodes:\n",
    "            LNode = LNode + 1\n",
    "            BeforeLocalNode = LNode - 1\n",
    "            \n",
    "            if BeforeLocalNode <= 0:\n",
    "                BeforeLocalTemp = self.TempLeftEnd\n",
    "            else:\n",
    "               #\n",
    "                BeforeLocalTemp = self.Temps[BeforeLocalNode]\n",
    "\n",
    "            #print(self.Temps)\n",
    "            LocalTemp = self.Temps[LNode]\n",
    "            AfterLocalNode = LNode + 1\n",
    "            \n",
    "            if AfterLocalNode > self.NumNodes:\n",
    "                AfterLocalTemp = self.Temp_Fluid\n",
    "            else:\n",
    "                AfterLocalTemp = self.Temps[AfterLocalNode]\n",
    "            #print(BeforeLocalTemp, LocalTemp, AfterLocalTemp, LNode)\n",
    "            LocalTemp = self.CalcTemp(BeforeLocalTemp, LocalTemp, AfterLocalTemp, LNode)\n",
    "            self.LocalTemps.append(LocalTemp)\n",
    "        L = 0\n",
    "        while L < self.NumNodes:\n",
    "            L = L + 1\n",
    "            #print(L)\n",
    "            #print(self.Temps)\n",
    "            #print(self.LocalTemps)\n",
    "            self.Temps[L] = self.LocalTemps[L]\n",
    "        self.GlobalTime = self.Temps[0] + self.TimeInc\n",
    "        self.Temps[0] = self.GlobalTime\n",
    "        self.UpdateDF(self.Temps)\n",
    "        #print(self.Temps)\n",
    "    def InputTemp(self,StartTemp):\n",
    "        a = 0\n",
    "        self.Temps = [0]\n",
    "        while a < self.NumNodes:\n",
    "            a = a + 1\n",
    "            self.Temps.append(StartTemp)\n",
    "    #time step recomendation\n",
    "    def SuggestedTimeInc(self,Return):\n",
    "        NN= 0\n",
    "        self.SugTime.clear()\n",
    "        while NN < self.NumNodes:\n",
    "            NN = NN + 1\n",
    "            self.Properties(NN)\n",
    "            R = (1/self.ConstThermResistLeft+1/self.ConstThermResistRight+1/self.ConstThermResistCircum)\n",
    "            TimeSuggestion = (self.ThermCapacitance)/(R)\n",
    "            TimeSuggestion = TimeSuggestion - (2/5)*(TimeSuggestion)\n",
    "            if (round(TimeSuggestion)) > 2:\n",
    "                self.SugTime.append(round(TimeSuggestion))\n",
    "            elif (round(TimeSuggestion,1)) > .2:\n",
    "                self.SugTime.append(round(TimeSuggestion,1))\n",
    "            else:\n",
    "                self.SugTime.append(round(TimeSuggestion,2))\n",
    "        #self.TimeInc = min(self.SugTime)\n",
    "        if Return == True:\n",
    "            print(self.TimeInc)\n",
    "            return self.TimeInc\n",
    "HeatSimulation = ClassHeatSimulation()"
   ]
  },
  {
   "cell_type": "code",
   "execution_count": 4,
   "metadata": {},
   "outputs": [
    {
     "data": {
      "text/html": [
       "<div>\n",
       "<style scoped>\n",
       "    .dataframe tbody tr th:only-of-type {\n",
       "        vertical-align: middle;\n",
       "    }\n",
       "\n",
       "    .dataframe tbody tr th {\n",
       "        vertical-align: top;\n",
       "    }\n",
       "\n",
       "    .dataframe thead th {\n",
       "        text-align: right;\n",
       "    }\n",
       "</style>\n",
       "<table border=\"1\" class=\"dataframe\">\n",
       "  <thead>\n",
       "    <tr style=\"text-align: right;\">\n",
       "      <th></th>\n",
       "      <th>Node</th>\n",
       "      <th>R_Left</th>\n",
       "      <th>R_Right</th>\n",
       "      <th>R_Circum</th>\n",
       "      <th>ThermCap</th>\n",
       "    </tr>\n",
       "  </thead>\n",
       "  <tbody>\n",
       "    <tr>\n",
       "      <th>0</th>\n",
       "      <td>1.0</td>\n",
       "      <td>70.73553</td>\n",
       "      <td>70.735530</td>\n",
       "      <td>84.882636</td>\n",
       "      <td>0.647836</td>\n",
       "    </tr>\n",
       "    <tr>\n",
       "      <th>1</th>\n",
       "      <td>2.0</td>\n",
       "      <td>70.73553</td>\n",
       "      <td>70.735530</td>\n",
       "      <td>84.882636</td>\n",
       "      <td>0.647836</td>\n",
       "    </tr>\n",
       "    <tr>\n",
       "      <th>2</th>\n",
       "      <td>3.0</td>\n",
       "      <td>70.73553</td>\n",
       "      <td>70.735530</td>\n",
       "      <td>84.882636</td>\n",
       "      <td>0.647836</td>\n",
       "    </tr>\n",
       "    <tr>\n",
       "      <th>3</th>\n",
       "      <td>4.0</td>\n",
       "      <td>70.73553</td>\n",
       "      <td>2829.421211</td>\n",
       "      <td>169.765273</td>\n",
       "      <td>0.323918</td>\n",
       "    </tr>\n",
       "  </tbody>\n",
       "</table>\n",
       "</div>"
      ],
      "text/plain": [
       "   Node    R_Left      R_Right    R_Circum  ThermCap\n",
       "0   1.0  70.73553    70.735530   84.882636  0.647836\n",
       "1   2.0  70.73553    70.735530   84.882636  0.647836\n",
       "2   3.0  70.73553    70.735530   84.882636  0.647836\n",
       "3   4.0  70.73553  2829.421211  169.765273  0.323918"
      ]
     },
     "execution_count": 4,
     "metadata": {},
     "output_type": "execute_result"
    }
   ],
   "source": [
    "HeatSimulation.UpdatePropertiesTable()\n",
    "HeatSimulation.PropsTable"
   ]
  },
  {
   "cell_type": "code",
   "execution_count": 9,
   "metadata": {
    "scrolled": false
   },
   "outputs": [
    {
     "name": "stdout",
     "output_type": "stream",
     "text": [
      "10\n"
     ]
    }
   ],
   "source": [
    "HeatSimulation.SetDiameter(.003)\n",
    "HeatSimulation.SetNodes(4,.10)\n",
    "HeatSimulation.SetMaterialProperties(7800,470,50)\n",
    "HeatSimulation.SetConvectionProperties(50,40)\n",
    "HeatSimulation.EnableLateralHeatTransfer(False)\n",
    "HeatSimulation.SetHeatSource(200)\n",
    "HeatSimulation.SetInitalTemp(200)"
   ]
  },
  {
   "cell_type": "code",
   "execution_count": 8,
   "metadata": {
    "scrolled": true
   },
   "outputs": [
    {
     "name": "stdout",
     "output_type": "stream",
     "text": [
      "7000\n",
      "nan\n"
     ]
    },
    {
     "data": {
      "text/html": [
       "<div>\n",
       "<style scoped>\n",
       "    .dataframe tbody tr th:only-of-type {\n",
       "        vertical-align: middle;\n",
       "    }\n",
       "\n",
       "    .dataframe tbody tr th {\n",
       "        vertical-align: top;\n",
       "    }\n",
       "\n",
       "    .dataframe thead th {\n",
       "        text-align: right;\n",
       "    }\n",
       "</style>\n",
       "<table border=\"1\" class=\"dataframe\">\n",
       "  <thead>\n",
       "    <tr style=\"text-align: right;\">\n",
       "      <th></th>\n",
       "      <th>Time</th>\n",
       "      <th>Node1</th>\n",
       "      <th>Node2</th>\n",
       "      <th>Node3</th>\n",
       "      <th>Node4</th>\n",
       "    </tr>\n",
       "  </thead>\n",
       "  <tbody>\n",
       "    <tr>\n",
       "      <th>0</th>\n",
       "      <td>0.0</td>\n",
       "      <td>200.000000</td>\n",
       "      <td>2.000000e+02</td>\n",
       "      <td>2.000000e+02</td>\n",
       "      <td>2.000000e+02</td>\n",
       "    </tr>\n",
       "    <tr>\n",
       "      <th>1</th>\n",
       "      <td>10.0</td>\n",
       "      <td>200.000000</td>\n",
       "      <td>2.000000e+02</td>\n",
       "      <td>2.000000e+02</td>\n",
       "      <td>1.825423e+02</td>\n",
       "    </tr>\n",
       "    <tr>\n",
       "      <th>2</th>\n",
       "      <td>20.0</td>\n",
       "      <td>200.000000</td>\n",
       "      <td>2.000000e+02</td>\n",
       "      <td>-1.809650e+02</td>\n",
       "      <td>9.289193e+02</td>\n",
       "    </tr>\n",
       "    <tr>\n",
       "      <th>3</th>\n",
       "      <td>30.0</td>\n",
       "      <td>200.000000</td>\n",
       "      <td>-8.113474e+03</td>\n",
       "      <td>3.235257e+04</td>\n",
       "      <td>-4.760819e+04</td>\n",
       "    </tr>\n",
       "    <tr>\n",
       "      <th>4</th>\n",
       "      <td>40.0</td>\n",
       "      <td>-181217.882032</td>\n",
       "      <td>1.056360e+06</td>\n",
       "      <td>-2.595619e+06</td>\n",
       "      <td>3.447422e+06</td>\n",
       "    </tr>\n",
       "    <tr>\n",
       "      <th>...</th>\n",
       "      <td>...</td>\n",
       "      <td>...</td>\n",
       "      <td>...</td>\n",
       "      <td>...</td>\n",
       "      <td>...</td>\n",
       "    </tr>\n",
       "    <tr>\n",
       "      <th>696</th>\n",
       "      <td>6960.0</td>\n",
       "      <td>NaN</td>\n",
       "      <td>NaN</td>\n",
       "      <td>NaN</td>\n",
       "      <td>NaN</td>\n",
       "    </tr>\n",
       "    <tr>\n",
       "      <th>697</th>\n",
       "      <td>6970.0</td>\n",
       "      <td>NaN</td>\n",
       "      <td>NaN</td>\n",
       "      <td>NaN</td>\n",
       "      <td>NaN</td>\n",
       "    </tr>\n",
       "    <tr>\n",
       "      <th>698</th>\n",
       "      <td>6980.0</td>\n",
       "      <td>NaN</td>\n",
       "      <td>NaN</td>\n",
       "      <td>NaN</td>\n",
       "      <td>NaN</td>\n",
       "    </tr>\n",
       "    <tr>\n",
       "      <th>699</th>\n",
       "      <td>6990.0</td>\n",
       "      <td>NaN</td>\n",
       "      <td>NaN</td>\n",
       "      <td>NaN</td>\n",
       "      <td>NaN</td>\n",
       "    </tr>\n",
       "    <tr>\n",
       "      <th>700</th>\n",
       "      <td>7000.0</td>\n",
       "      <td>NaN</td>\n",
       "      <td>NaN</td>\n",
       "      <td>NaN</td>\n",
       "      <td>NaN</td>\n",
       "    </tr>\n",
       "  </tbody>\n",
       "</table>\n",
       "<p>701 rows × 5 columns</p>\n",
       "</div>"
      ],
      "text/plain": [
       "       Time          Node1         Node2         Node3         Node4\n",
       "0       0.0     200.000000  2.000000e+02  2.000000e+02  2.000000e+02\n",
       "1      10.0     200.000000  2.000000e+02  2.000000e+02  1.825423e+02\n",
       "2      20.0     200.000000  2.000000e+02 -1.809650e+02  9.289193e+02\n",
       "3      30.0     200.000000 -8.113474e+03  3.235257e+04 -4.760819e+04\n",
       "4      40.0 -181217.882032  1.056360e+06 -2.595619e+06  3.447422e+06\n",
       "..      ...            ...           ...           ...           ...\n",
       "696  6960.0            NaN           NaN           NaN           NaN\n",
       "697  6970.0            NaN           NaN           NaN           NaN\n",
       "698  6980.0            NaN           NaN           NaN           NaN\n",
       "699  6990.0            NaN           NaN           NaN           NaN\n",
       "700  7000.0            NaN           NaN           NaN           NaN\n",
       "\n",
       "[701 rows x 5 columns]"
      ]
     },
     "execution_count": 8,
     "metadata": {},
     "output_type": "execute_result"
    }
   ],
   "source": [
    "print(HeatSimulation.GetTempatureAtNodeAtTime(0,7000,1))\n",
    "HeatSimulation.AllTemp"
   ]
  },
  {
   "cell_type": "code",
   "execution_count": 427,
   "metadata": {
    "scrolled": true
   },
   "outputs": [
    {
     "data": {
      "image/png": "[encoded data removed]",
      "text/plain": [
       "<Figure size 432x288 with 1 Axes>"
      ]
     },
     "metadata": {
      "needs_background": "light"
     },
     "output_type": "display_data"
    }
   ],
   "source": [
    "dfValidate4 = HeatSimulation.AllTemp\n",
    "plt.figure()\n",
    "plt.plot(dfValidate4.Time, dfValidate4.Node1, label=\"Node1\")\n",
    "plt.plot(dfValidate4.Time, dfValidate4.Node2, label=\"Node2\")\n",
    "plt.plot(dfValidate4.Time, dfValidate4.Node3, label=\"Node3\")\n",
    "plt.plot(dfValidate4.Time, dfValidate4.Node4, label=\"Node4\")\n",
    "#plt.plot(dfValidate4.Time, np.ones(np.shape(dfValidate4.Time))*40, label=\"Fluid\")\n",
    "plt.xlabel(\"Time\")\n",
    "plt.ylabel(\"Temperature (C)\")\n",
    "plt.legend()\n",
    "plt.show()"
   ]
  },
  {
   "cell_type": "code",
   "execution_count": 421,
   "metadata": {
    "scrolled": false
   },
   "outputs": [
    {
     "name": "stdout",
     "output_type": "stream",
     "text": [
      "Time Invalid, rounding...\n",
      "2200\n",
      "New Timestep is 22000\n",
      "196.36363636363654\n"
     ]
    },
    {
     "data": {
      "text/html": [
       "<div>\n",
       "<style scoped>\n",
       "    .dataframe tbody tr th:only-of-type {\n",
       "        vertical-align: middle;\n",
       "    }\n",
       "\n",
       "    .dataframe tbody tr th {\n",
       "        vertical-align: top;\n",
       "    }\n",
       "\n",
       "    .dataframe thead th {\n",
       "        text-align: right;\n",
       "    }\n",
       "</style>\n",
       "<table border=\"1\" class=\"dataframe\">\n",
       "  <thead>\n",
       "    <tr style=\"text-align: right;\">\n",
       "      <th></th>\n",
       "      <th>Time</th>\n",
       "      <th>Node1</th>\n",
       "      <th>Node2</th>\n",
       "      <th>Node3</th>\n",
       "      <th>Node4</th>\n",
       "    </tr>\n",
       "  </thead>\n",
       "  <tbody>\n",
       "    <tr>\n",
       "      <th>0</th>\n",
       "      <td>0.0</td>\n",
       "      <td>200.000000</td>\n",
       "      <td>200.000000</td>\n",
       "      <td>200.000000</td>\n",
       "      <td>200.000000</td>\n",
       "    </tr>\n",
       "    <tr>\n",
       "      <th>1</th>\n",
       "      <td>10.0</td>\n",
       "      <td>200.000000</td>\n",
       "      <td>200.000000</td>\n",
       "      <td>200.000000</td>\n",
       "      <td>198.254228</td>\n",
       "    </tr>\n",
       "    <tr>\n",
       "      <th>2</th>\n",
       "      <td>20.0</td>\n",
       "      <td>200.000000</td>\n",
       "      <td>200.000000</td>\n",
       "      <td>199.619035</td>\n",
       "      <td>197.289434</td>\n",
       "    </tr>\n",
       "    <tr>\n",
       "      <th>3</th>\n",
       "      <td>30.0</td>\n",
       "      <td>200.000000</td>\n",
       "      <td>199.916865</td>\n",
       "      <td>199.193801</td>\n",
       "      <td>196.589975</td>\n",
       "    </tr>\n",
       "    <tr>\n",
       "      <th>4</th>\n",
       "      <td>40.0</td>\n",
       "      <td>199.981858</td>\n",
       "      <td>199.777219</td>\n",
       "      <td>198.783378</td>\n",
       "      <td>196.017832</td>\n",
       "    </tr>\n",
       "    <tr>\n",
       "      <th>...</th>\n",
       "      <td>...</td>\n",
       "      <td>...</td>\n",
       "      <td>...</td>\n",
       "      <td>...</td>\n",
       "      <td>...</td>\n",
       "    </tr>\n",
       "    <tr>\n",
       "      <th>2196</th>\n",
       "      <td>21960.0</td>\n",
       "      <td>196.363636</td>\n",
       "      <td>192.727273</td>\n",
       "      <td>189.090909</td>\n",
       "      <td>185.454545</td>\n",
       "    </tr>\n",
       "    <tr>\n",
       "      <th>2197</th>\n",
       "      <td>21970.0</td>\n",
       "      <td>196.363636</td>\n",
       "      <td>192.727273</td>\n",
       "      <td>189.090909</td>\n",
       "      <td>185.454545</td>\n",
       "    </tr>\n",
       "    <tr>\n",
       "      <th>2198</th>\n",
       "      <td>21980.0</td>\n",
       "      <td>196.363636</td>\n",
       "      <td>192.727273</td>\n",
       "      <td>189.090909</td>\n",
       "      <td>185.454545</td>\n",
       "    </tr>\n",
       "    <tr>\n",
       "      <th>2199</th>\n",
       "      <td>21990.0</td>\n",
       "      <td>196.363636</td>\n",
       "      <td>192.727273</td>\n",
       "      <td>189.090909</td>\n",
       "      <td>185.454545</td>\n",
       "    </tr>\n",
       "    <tr>\n",
       "      <th>2200</th>\n",
       "      <td>22000.0</td>\n",
       "      <td>196.363636</td>\n",
       "      <td>192.727273</td>\n",
       "      <td>189.090909</td>\n",
       "      <td>185.454545</td>\n",
       "    </tr>\n",
       "  </tbody>\n",
       "</table>\n",
       "<p>2201 rows × 5 columns</p>\n",
       "</div>"
      ],
      "text/plain": [
       "         Time       Node1       Node2       Node3       Node4\n",
       "0         0.0  200.000000  200.000000  200.000000  200.000000\n",
       "1        10.0  200.000000  200.000000  200.000000  198.254228\n",
       "2        20.0  200.000000  200.000000  199.619035  197.289434\n",
       "3        30.0  200.000000  199.916865  199.193801  196.589975\n",
       "4        40.0  199.981858  199.777219  198.783378  196.017832\n",
       "...       ...         ...         ...         ...         ...\n",
       "2196  21960.0  196.363636  192.727273  189.090909  185.454545\n",
       "2197  21970.0  196.363636  192.727273  189.090909  185.454545\n",
       "2198  21980.0  196.363636  192.727273  189.090909  185.454545\n",
       "2199  21990.0  196.363636  192.727273  189.090909  185.454545\n",
       "2200  22000.0  196.363636  192.727273  189.090909  185.454545\n",
       "\n",
       "[2201 rows x 5 columns]"
      ]
     },
     "execution_count": 421,
     "metadata": {},
     "output_type": "execute_result"
    }
   ],
   "source": [
    "print(HeatSimulation.GetTempatureAtNodeAtTime(0,21996,1))\n",
    "HeatSimulation.AllTemp"
   ]
  },
  {
   "cell_type": "code",
   "execution_count": 5,
   "metadata": {
    "scrolled": true
   },
   "outputs": [
    {
     "name": "stdout",
     "output_type": "stream",
     "text": [
      "127.32962273677238\n"
     ]
    }
   ],
   "source": [
    "print(HeatSimulation.GetTempatureAtNodeAtTime(100,140,1))"
   ]
  },
  {
   "cell_type": "code",
   "execution_count": 413,
   "metadata": {
    "scrolled": true
   },
   "outputs": [
    {
     "data": {
      "text/html": [
       "<div>\n",
       "<style scoped>\n",
       "    .dataframe tbody tr th:only-of-type {\n",
       "        vertical-align: middle;\n",
       "    }\n",
       "\n",
       "    .dataframe tbody tr th {\n",
       "        vertical-align: top;\n",
       "    }\n",
       "\n",
       "    .dataframe thead th {\n",
       "        text-align: right;\n",
       "    }\n",
       "</style>\n",
       "<table border=\"1\" class=\"dataframe\">\n",
       "  <thead>\n",
       "    <tr style=\"text-align: right;\">\n",
       "      <th></th>\n",
       "      <th>Time</th>\n",
       "      <th>Node1</th>\n",
       "      <th>Node2</th>\n",
       "      <th>Node3</th>\n",
       "      <th>Node4</th>\n",
       "    </tr>\n",
       "  </thead>\n",
       "  <tbody>\n",
       "    <tr>\n",
       "      <th>0</th>\n",
       "      <td>0.0</td>\n",
       "      <td>200.000000</td>\n",
       "      <td>200.000000</td>\n",
       "      <td>200.000000</td>\n",
       "      <td>200.000000</td>\n",
       "    </tr>\n",
       "    <tr>\n",
       "      <th>1</th>\n",
       "      <td>10.0</td>\n",
       "      <td>170.903801</td>\n",
       "      <td>170.903801</td>\n",
       "      <td>170.903801</td>\n",
       "      <td>169.158029</td>\n",
       "    </tr>\n",
       "    <tr>\n",
       "      <th>2</th>\n",
       "      <td>20.0</td>\n",
       "      <td>153.448198</td>\n",
       "      <td>147.098781</td>\n",
       "      <td>146.717817</td>\n",
       "      <td>145.023157</td>\n",
       "    </tr>\n",
       "    <tr>\n",
       "      <th>3</th>\n",
       "      <td>30.0</td>\n",
       "      <td>141.590526</td>\n",
       "      <td>128.925179</td>\n",
       "      <td>127.024372</td>\n",
       "      <td>125.518272</td>\n",
       "    </tr>\n",
       "    <tr>\n",
       "      <th>4</th>\n",
       "      <td>40.0</td>\n",
       "      <td>133.098514</td>\n",
       "      <td>115.103079</td>\n",
       "      <td>111.285015</td>\n",
       "      <td>109.690898</td>\n",
       "    </tr>\n",
       "    <tr>\n",
       "      <th>5</th>\n",
       "      <td>50.0</td>\n",
       "      <td>126.840785</td>\n",
       "      <td>104.539298</td>\n",
       "      <td>98.807059</td>\n",
       "      <td>96.952860</td>\n",
       "    </tr>\n",
       "    <tr>\n",
       "      <th>6</th>\n",
       "      <td>60.0</td>\n",
       "      <td>122.146929</td>\n",
       "      <td>96.418512</td>\n",
       "      <td>88.959194</td>\n",
       "      <td>86.783747</td>\n",
       "    </tr>\n",
       "    <tr>\n",
       "      <th>7</th>\n",
       "      <td>70.0</td>\n",
       "      <td>118.583128</td>\n",
       "      <td>90.145446</td>\n",
       "      <td>81.208958</td>\n",
       "      <td>78.715062</td>\n",
       "    </tr>\n",
       "    <tr>\n",
       "      <th>8</th>\n",
       "      <td>80.0</td>\n",
       "      <td>115.853886</td>\n",
       "      <td>85.282014</td>\n",
       "      <td>75.120969</td>\n",
       "      <td>72.340700</td>\n",
       "    </tr>\n",
       "    <tr>\n",
       "      <th>9</th>\n",
       "      <td>90.0</td>\n",
       "      <td>113.750813</td>\n",
       "      <td>81.501504</td>\n",
       "      <td>70.344821</td>\n",
       "      <td>67.320061</td>\n",
       "    </tr>\n",
       "    <tr>\n",
       "      <th>10</th>\n",
       "      <td>100.0</td>\n",
       "      <td>112.123070</td>\n",
       "      <td>78.557268</td>\n",
       "      <td>66.601138</td>\n",
       "      <td>63.373918</td>\n",
       "    </tr>\n",
       "  </tbody>\n",
       "</table>\n",
       "</div>"
      ],
      "text/plain": [
       "     Time       Node1       Node2       Node3       Node4\n",
       "0     0.0  200.000000  200.000000  200.000000  200.000000\n",
       "1    10.0  170.903801  170.903801  170.903801  169.158029\n",
       "2    20.0  153.448198  147.098781  146.717817  145.023157\n",
       "3    30.0  141.590526  128.925179  127.024372  125.518272\n",
       "4    40.0  133.098514  115.103079  111.285015  109.690898\n",
       "5    50.0  126.840785  104.539298   98.807059   96.952860\n",
       "6    60.0  122.146929   96.418512   88.959194   86.783747\n",
       "7    70.0  118.583128   90.145446   81.208958   78.715062\n",
       "8    80.0  115.853886   85.282014   75.120969   72.340700\n",
       "9    90.0  113.750813   81.501504   70.344821   67.320061\n",
       "10  100.0  112.123070   78.557268   66.601138   63.373918"
      ]
     },
     "execution_count": 413,
     "metadata": {},
     "output_type": "execute_result"
    }
   ],
   "source": [
    "HeatSimulation.AllTemp"
   ]
  },
  {
   "cell_type": "code",
   "execution_count": 329,
   "metadata": {},
   "outputs": [],
   "source": [
    "HeatSimulation.CreateDF()"
   ]
  },
  {
   "cell_type": "code",
   "execution_count": 369,
   "metadata": {
    "collapsed": true
   },
   "outputs": [
    {
     "name": "stdout",
     "output_type": "stream",
     "text": [
      "200 148.91630273521662 118.66520867169803 1\n",
      "148.91630273521662 118.66520867169803 101.21656653941417 2\n",
      "118.66520867169803 101.21656653941417 91.44380728752843 3\n",
      "101.21656653941417 91.44380728752843 86.12120774887086 4\n",
      "91.44380728752843 86.12120774887086 83.27346872144896 5\n",
      "86.12120774887086 83.27346872144896 81.75166775381246 6\n",
      "83.27346872144896 81.75166775381246 80.96455263423928 7\n",
      "81.75166775381246 80.96455263423928 40 8\n",
      "[75, 148.42967931082242, 117.7261230523979, 99.88692503840473, 89.80261576194015, 84.2531293367083, 81.25988628639827, 79.66627900950758, 78.87377283050522]\n"
     ]
    }
   ],
   "source": [
    "HeatSimulation.CalculateAllNodes()"
   ]
  },
  {
   "cell_type": "code",
   "execution_count": 343,
   "metadata": {},
   "outputs": [
    {
     "data": {
      "text/plain": [
       "183.018486426623"
      ]
     },
     "execution_count": 343,
     "metadata": {},
     "output_type": "execute_result"
    }
   ],
   "source": [
    "HeatSimulation.CalcTemp(191.271140,191.271140,191.271140,2)"
   ]
  },
  {
   "cell_type": "code",
   "execution_count": 255,
   "metadata": {},
   "outputs": [],
   "source": [
    "HeatSimulation.Properties(4)"
   ]
  },
  {
   "cell_type": "code",
   "execution_count": null,
   "metadata": {},
   "outputs": [],
   "source": []
  },
  {
   "cell_type": "code",
   "execution_count": 401,
   "metadata": {},
   "outputs": [
    {
     "name": "stdout",
     "output_type": "stream",
     "text": [
      "     Time       Node1       Node2       Node3       Node4       Node5  \\\n",
      "0     0.0  200.000000  200.000000  200.000000  200.000000  200.000000   \n",
      "1     3.0  191.271140  191.271140  191.271140  191.271140  191.271140   \n",
      "2     6.0  185.304276  183.018487  183.018487  183.018487  183.018487   \n",
      "3     9.0  180.626884  175.814630  175.216060  175.216060  175.216060   \n",
      "4    12.0  176.767924  169.508632  167.996042  167.839297  167.820488   \n",
      "..    ...         ...         ...         ...         ...         ...   \n",
      "79  237.0  142.024173  105.262603   82.017553   67.410559   58.367565   \n",
      "80  240.0  142.013494  105.241692   81.987281   67.372187   58.322689   \n",
      "81  243.0  142.003515  105.222149   81.958991   67.336327   58.280749   \n",
      "82  246.0  141.994189  105.203887   81.932552   67.302813   58.241552   \n",
      "83  249.0  141.985474  105.186820   81.907844   67.271492   58.204920   \n",
      "\n",
      "         Node6       Node7       Node8  \n",
      "0   200.000000  200.000000  200.000000  \n",
      "1   191.271140  191.271140  190.223677  \n",
      "2   183.018487  182.744192  181.593297  \n",
      "3   175.144231  174.727177  173.544421  \n",
      "4   167.680984  167.176574  166.004034  \n",
      "..         ...         ...         ...  \n",
      "79   52.979776   50.107009   49.140887  \n",
      "80   52.930258   50.054902   49.088349  \n",
      "81   52.883979   50.006203   49.039247  \n",
      "82   52.840727   49.960689   48.993356  \n",
      "83   52.800304   49.918152   48.950467  \n",
      "\n",
      "[84 rows x 9 columns]\n"
     ]
    }
   ],
   "source": [
    "HeatSimulation.SaveDFtoCSV('Example_4-11_8Node.csv')"
   ]
  },
  {
   "cell_type": "code",
   "execution_count": 387,
   "metadata": {},
   "outputs": [],
   "source": [
    "\n",
    "\n",
    "dfValidate = pd.read_csv('8Node.csv')"
   ]
  },
  {
   "cell_type": "code",
   "execution_count": 388,
   "metadata": {
    "scrolled": true
   },
   "outputs": [
    {
     "data": {
      "image/png": "[encoded data removed]",
      "text/plain": [
       "<Figure size 432x288 with 1 Axes>"
      ]
     },
     "metadata": {
      "needs_background": "light"
     },
     "output_type": "display_data"
    }
   ],
   "source": [
    "\n",
    "# plt.figure()\n",
    "# plt.plot(dfValidate.Time, dfValidate.Node1, label=\"Node1\")\n",
    "# plt.plot(dfValidate.Time, dfValidate.Node2, label=\"Node2\")\n",
    "# plt.plot(dfValidate.Time, dfValidate.Node3, label=\"Node3\")\n",
    "# plt.plot(dfValidate.Time, dfValidate.Node4, label=\"Node4\")\n",
    "# plt.plot(dfValidate.Time, dfValidate.Node5, label=\"Node5\")\n",
    "# plt.plot(dfValidate.Time, dfValidate.Node6, label=\"Node6\")\n",
    "# plt.plot(dfValidate.Time, dfValidate.Node7, label=\"Node7\")\n",
    "# plt.plot(dfValidate.Time, dfValidate.Node8, label=\"Node8\")\n",
    "# plt.plot(dfValidate.Time, np.ones(np.shape(dfValidate.Time))*40, label=\"Fluid\")\n",
    "# plt.xlabel(\"Time\")\n",
    "# plt.ylabel(\"Temperature (C)\")\n",
    "# plt.legend()\n",
    "# plt.show()\n",
    "plt.figure()\n",
    "plt.plot(dfValidate.Time, dfValidate.Node2, label=\"Node2\")\n",
    "plt.plot(dfValidate.Time, dfValidate.Node4, label=\"Node4\")\n",
    "plt.plot(dfValidate.Time, dfValidate.Node6, label=\"Node6\")\n",
    "plt.plot(dfValidate.Time, dfValidate.Node8, label=\"Node8\")\n",
    "plt.plot(dfValidate.Time, np.ones(np.shape(dfValidate.Time))*40, label=\"Fluid\")\n",
    "plt.xlabel(\"Time\")\n",
    "plt.ylabel(\"Temperature (C)\")\n",
    "plt.legend()\n",
    "plt.show()\n"
   ]
  },
  {
   "cell_type": "code",
   "execution_count": 417,
   "metadata": {},
   "outputs": [
    {
     "data": {
      "image/png": "[encoded data removed]",
      "text/plain": [
       "<Figure size 432x288 with 1 Axes>"
      ]
     },
     "metadata": {
      "needs_background": "light"
     },
     "output_type": "display_data"
    }
   ],
   "source": [
    "dfValidate4 = pd.read_csv('4Node.csv')\n",
    "dfValidate8 = pd.read_csv('8Node.csv')\n",
    "plt.figure()\n",
    "plt.plot(dfValidate8.Time, dfValidate8.Node2, label=\"Node2\")\n",
    "plt.plot(dfValidate8.Time, dfValidate8.Node4, label=\"Node4\")\n",
    "plt.plot(dfValidate8.Time, dfValidate8.Node6, label=\"Node6\")\n",
    "plt.plot(dfValidate8.Time, dfValidate8.Node8, label=\"Node8\")\n",
    "plt.plot(dfValidate4.Time, dfValidate4.Node1, marker='o', linestyle='None')\n",
    "plt.plot(dfValidate4.Time, dfValidate4.Node2, marker='o', linestyle='None')\n",
    "plt.plot(dfValidate4.Time, dfValidate4.Node3, marker='o', linestyle='None')\n",
    "plt.plot(dfValidate4.Time, dfValidate4.Node4, marker='o', linestyle='None')\n",
    "plt.plot(dfValidate4.Time, np.ones(np.shape(dfValidate4.Time))*40, label=\"Fluid\")\n",
    "plt.xlabel(\"Time\")\n",
    "plt.ylabel(\"Temperature (C)\")\n",
    "plt.legend()\n",
    "plt.show()"
   ]
  },
  {
   "cell_type": "markdown",
   "metadata": {},
   "source": [
    "4 Node = the markers,\n",
    "These show how increasing nodes still produces the same result at a given position and time."
   ]
  },
  {
   "cell_type": "code",
   "execution_count": 385,
   "metadata": {
    "scrolled": true
   },
   "outputs": [
    {
     "data": {
      "image/png": "[encoded data removed]",
      "text/plain": [
       "<Figure size 432x288 with 1 Axes>"
      ]
     },
     "metadata": {
      "needs_background": "light"
     },
     "output_type": "display_data"
    }
   ],
   "source": [
    "dfValidate4 = pd.read_csv('4Node.csv')\n",
    "plt.figure()\n",
    "plt.plot(dfValidate4.Time, dfValidate.Node1, label=\"Node1\")\n",
    "plt.plot(dfValidate4.Time, dfValidate.Node2, label=\"Node2\")\n",
    "plt.plot(dfValidate4.Time, dfValidate.Node3, label=\"Node3\")\n",
    "plt.plot(dfValidate4.Time, dfValidate.Node4, label=\"Node4\")\n",
    "plt.plot(dfValidate.Time, np.ones(np.shape(dfValidate.Time))*40, label=\"Fluid\")\n",
    "plt.xlabel(\"Time\")\n",
    "plt.ylabel(\"Temperature (C)\")\n",
    "plt.legend()\n",
    "plt.show()"
   ]
  },
  {
   "cell_type": "code",
   "execution_count": 393,
   "metadata": {},
   "outputs": [
    {
     "data": {
      "image/png": "[encoded data removed]",
      "text/plain": [
       "<Figure size 432x288 with 1 Axes>"
      ]
     },
     "metadata": {
      "needs_background": "light"
     },
     "output_type": "display_data"
    }
   ],
   "source": [
    "dfValidate = pd.read_csv('40Node.csv')\n",
    "plt.figure()\n",
    "plt.plot(dfValidate.Time, dfValidate.Node10, label=\"Node10\")\n",
    "plt.plot(dfValidate.Time, dfValidate.Node20, label=\"Node20\")\n",
    "plt.plot(dfValidate.Time, dfValidate.Node30, label=\"Node30\")\n",
    "plt.plot(dfValidate.Time, dfValidate.Node40, label=\"Node40\")\n",
    "plt.plot(dfValidate.Time, np.ones(np.shape(dfValidate.Time))*40, label=\"Fluid\")\n",
    "plt.xlabel(\"Time\")\n",
    "plt.ylabel(\"Temperature (C)\")\n",
    "plt.legend()\n",
    "plt.show()"
   ]
  },
  {
   "cell_type": "code",
   "execution_count": null,
   "metadata": {},
   "outputs": [],
   "source": []
  },
  {
   "cell_type": "code",
   "execution_count": null,
   "metadata": {},
   "outputs": [],
   "source": []
  }
 ],
 "metadata": {
  "kernelspec": {
   "display_name": "Python 3",
   "language": "python",
   "name": "python3"
  },
  "language_info": {
   "codemirror_mode": {
    "name": "ipython",
    "version": 3
   },
   "file_extension": ".py",
   "mimetype": "text/x-python",
   "name": "python",
   "nbconvert_exporter": "python",
   "pygments_lexer": "ipython3",
   "version": "3.6.10"
  }
 },
 "nbformat": 4,
 "nbformat_minor": 4
}
