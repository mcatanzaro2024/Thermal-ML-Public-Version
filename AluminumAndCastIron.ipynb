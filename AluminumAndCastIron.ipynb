{
 "cells": [
  {
   "cell_type": "markdown",
   "metadata": {},
   "source": [
    "   Testing with alumin v cast iron\n",
    "  "
   ]
  },
  {
   "cell_type": "code",
   "execution_count": 2,
   "metadata": {},
   "outputs": [],
   "source": [
    "import numpy as np\n",
    "import pandas as pd\n",
    "import matplotlib.pyplot as plt\n",
    "import csv\n",
    "import MySimulator\n",
    "HeatSimulation = MySimulator.ClassHeatSimulation()"
   ]
  },
  {
   "cell_type": "markdown",
   "metadata": {},
   "source": [
    "Aluminum info = density 2,707 k = 206 W/m C,  c = 896\n",
    "cast iron info = density 7753  k = 36 W/m C, c = 486"
   ]
  },
  {
   "cell_type": "code",
   "execution_count": 2,
   "metadata": {},
   "outputs": [
    {
     "name": "stdout",
     "output_type": "stream",
     "text": [
      "0.14\n"
     ]
    }
   ],
   "source": [
    "HeatSimulation.SetDiameter(.003)\n",
    "HeatSimulation.SetNodes(4,.010)\n",
    "HeatSimulation.SetConvectionProperties(4,25)\n",
    "HeatSimulation.EnableLateralHeatTransfer(False)\n",
    "HeatSimulation.SetHeatSource(140)\n",
    "HeatSimulation.SetInitalTemp(25)\n",
    "print(HeatSimulation.SuggestedTimeInc(True))\n",
    "HeatSimulation.SetTimeIncrement(.1)"
   ]
  },
  {
   "cell_type": "markdown",
   "metadata": {},
   "source": [
    "Aluminum properties"
   ]
  },
  {
   "cell_type": "code",
   "execution_count": 3,
   "metadata": {},
   "outputs": [],
   "source": [
    "HeatSimulation.SetMaterialProperties(2707,896,206)"
   ]
  },
  {
   "cell_type": "markdown",
   "metadata": {},
   "source": [
    "Helps to calculate the length of time step"
   ]
  },
  {
   "cell_type": "code",
   "execution_count": 4,
   "metadata": {
    "scrolled": true
   },
   "outputs": [
    {
     "data": {
      "text/html": [
       "<div>\n",
       "<style scoped>\n",
       "    .dataframe tbody tr th:only-of-type {\n",
       "        vertical-align: middle;\n",
       "    }\n",
       "\n",
       "    .dataframe tbody tr th {\n",
       "        vertical-align: top;\n",
       "    }\n",
       "\n",
       "    .dataframe thead th {\n",
       "        text-align: right;\n",
       "    }\n",
       "</style>\n",
       "<table border=\"1\" class=\"dataframe\">\n",
       "  <thead>\n",
       "    <tr style=\"text-align: right;\">\n",
       "      <th></th>\n",
       "      <th>Node</th>\n",
       "      <th>R_Left</th>\n",
       "      <th>R_Right</th>\n",
       "      <th>R_Circum</th>\n",
       "      <th>ThermCap</th>\n",
       "      <th>C/(1/R)</th>\n",
       "    </tr>\n",
       "  </thead>\n",
       "  <tbody>\n",
       "    <tr>\n",
       "      <th>0</th>\n",
       "      <td>1.0</td>\n",
       "      <td>1.716882</td>\n",
       "      <td>1.716882</td>\n",
       "      <td>0.0</td>\n",
       "      <td>0.042862</td>\n",
       "      <td>0.036794</td>\n",
       "    </tr>\n",
       "    <tr>\n",
       "      <th>1</th>\n",
       "      <td>2.0</td>\n",
       "      <td>1.716882</td>\n",
       "      <td>1.716882</td>\n",
       "      <td>0.0</td>\n",
       "      <td>0.042862</td>\n",
       "      <td>0.036794</td>\n",
       "    </tr>\n",
       "    <tr>\n",
       "      <th>2</th>\n",
       "      <td>3.0</td>\n",
       "      <td>1.716882</td>\n",
       "      <td>1.716882</td>\n",
       "      <td>0.0</td>\n",
       "      <td>0.042862</td>\n",
       "      <td>0.036794</td>\n",
       "    </tr>\n",
       "    <tr>\n",
       "      <th>3</th>\n",
       "      <td>4.0</td>\n",
       "      <td>1.716882</td>\n",
       "      <td>35367.765132</td>\n",
       "      <td>0.0</td>\n",
       "      <td>0.021431</td>\n",
       "      <td>0.036792</td>\n",
       "    </tr>\n",
       "  </tbody>\n",
       "</table>\n",
       "</div>"
      ],
      "text/plain": [
       "   Node    R_Left       R_Right  R_Circum  ThermCap   C/(1/R)\n",
       "0   1.0  1.716882      1.716882       0.0  0.042862  0.036794\n",
       "1   2.0  1.716882      1.716882       0.0  0.042862  0.036794\n",
       "2   3.0  1.716882      1.716882       0.0  0.042862  0.036794\n",
       "3   4.0  1.716882  35367.765132       0.0  0.021431  0.036792"
      ]
     },
     "execution_count": 4,
     "metadata": {},
     "output_type": "execute_result"
    }
   ],
   "source": [
    "HeatSimulation.UpdatePropertiesTable()\n",
    "HeatSimulation.PropsTable"
   ]
  },
  {
   "cell_type": "markdown",
   "metadata": {},
   "source": [
    "Recommended time step"
   ]
  },
  {
   "cell_type": "code",
   "execution_count": 5,
   "metadata": {},
   "outputs": [
    {
     "name": "stdout",
     "output_type": "stream",
     "text": [
      "0.022\n"
     ]
    }
   ],
   "source": [
    "print(HeatSimulation.SuggestedTimeInc(True))"
   ]
  },
  {
   "cell_type": "markdown",
   "metadata": {},
   "source": [
    "use the recommended to set one"
   ]
  },
  {
   "cell_type": "code",
   "execution_count": 6,
   "metadata": {},
   "outputs": [],
   "source": [
    "HeatSimulation.SetTimeIncrement(.01)"
   ]
  },
  {
   "cell_type": "markdown",
   "metadata": {},
   "source": [
    "Now lets run the simulator for 100 seconds"
   ]
  },
  {
   "cell_type": "code",
   "execution_count": 7,
   "metadata": {},
   "outputs": [
    {
     "name": "stdout",
     "output_type": "stream",
     "text": [
      "Time Invalid, rounding...\n",
      "10000\n",
      "New Timestep is 100.0\n"
     ]
    },
    {
     "data": {
      "text/html": [
       "<div>\n",
       "<style scoped>\n",
       "    .dataframe tbody tr th:only-of-type {\n",
       "        vertical-align: middle;\n",
       "    }\n",
       "\n",
       "    .dataframe tbody tr th {\n",
       "        vertical-align: top;\n",
       "    }\n",
       "\n",
       "    .dataframe thead th {\n",
       "        text-align: right;\n",
       "    }\n",
       "</style>\n",
       "<table border=\"1\" class=\"dataframe\">\n",
       "  <thead>\n",
       "    <tr style=\"text-align: right;\">\n",
       "      <th></th>\n",
       "      <th>Time</th>\n",
       "      <th>Heater</th>\n",
       "      <th>Node1</th>\n",
       "      <th>Node2</th>\n",
       "      <th>Node3</th>\n",
       "      <th>Node4</th>\n",
       "      <th>Convection</th>\n",
       "    </tr>\n",
       "  </thead>\n",
       "  <tbody>\n",
       "    <tr>\n",
       "      <th>0</th>\n",
       "      <td>0.00</td>\n",
       "      <td>140.0</td>\n",
       "      <td>25.000000</td>\n",
       "      <td>25.000000</td>\n",
       "      <td>25.000000</td>\n",
       "      <td>25.000000</td>\n",
       "      <td>25.0</td>\n",
       "    </tr>\n",
       "    <tr>\n",
       "      <th>1</th>\n",
       "      <td>0.01</td>\n",
       "      <td>140.0</td>\n",
       "      <td>40.627474</td>\n",
       "      <td>25.000000</td>\n",
       "      <td>25.000000</td>\n",
       "      <td>25.000000</td>\n",
       "      <td>25.0</td>\n",
       "    </tr>\n",
       "    <tr>\n",
       "      <th>2</th>\n",
       "      <td>0.02</td>\n",
       "      <td>140.0</td>\n",
       "      <td>52.007679</td>\n",
       "      <td>27.123634</td>\n",
       "      <td>25.000000</td>\n",
       "      <td>25.000000</td>\n",
       "      <td>25.0</td>\n",
       "    </tr>\n",
       "    <tr>\n",
       "      <th>3</th>\n",
       "      <td>0.03</td>\n",
       "      <td>140.0</td>\n",
       "      <td>60.583531</td>\n",
       "      <td>30.216571</td>\n",
       "      <td>25.288583</td>\n",
       "      <td>25.000000</td>\n",
       "      <td>25.0</td>\n",
       "    </tr>\n",
       "    <tr>\n",
       "      <th>4</th>\n",
       "      <td>0.04</td>\n",
       "      <td>140.0</td>\n",
       "      <td>67.248921</td>\n",
       "      <td>33.673500</td>\n",
       "      <td>25.919037</td>\n",
       "      <td>25.078432</td>\n",
       "      <td>25.0</td>\n",
       "    </tr>\n",
       "    <tr>\n",
       "      <th>...</th>\n",
       "      <td>...</td>\n",
       "      <td>...</td>\n",
       "      <td>...</td>\n",
       "      <td>...</td>\n",
       "      <td>...</td>\n",
       "      <td>...</td>\n",
       "      <td>...</td>\n",
       "    </tr>\n",
       "    <tr>\n",
       "      <th>9996</th>\n",
       "      <td>99.96</td>\n",
       "      <td>140.0</td>\n",
       "      <td>139.994419</td>\n",
       "      <td>139.988837</td>\n",
       "      <td>139.983256</td>\n",
       "      <td>139.977674</td>\n",
       "      <td>25.0</td>\n",
       "    </tr>\n",
       "    <tr>\n",
       "      <th>9997</th>\n",
       "      <td>99.97</td>\n",
       "      <td>140.0</td>\n",
       "      <td>139.994419</td>\n",
       "      <td>139.988837</td>\n",
       "      <td>139.983256</td>\n",
       "      <td>139.977674</td>\n",
       "      <td>25.0</td>\n",
       "    </tr>\n",
       "    <tr>\n",
       "      <th>9998</th>\n",
       "      <td>99.98</td>\n",
       "      <td>140.0</td>\n",
       "      <td>139.994419</td>\n",
       "      <td>139.988837</td>\n",
       "      <td>139.983256</td>\n",
       "      <td>139.977674</td>\n",
       "      <td>25.0</td>\n",
       "    </tr>\n",
       "    <tr>\n",
       "      <th>9999</th>\n",
       "      <td>99.99</td>\n",
       "      <td>140.0</td>\n",
       "      <td>139.994419</td>\n",
       "      <td>139.988837</td>\n",
       "      <td>139.983256</td>\n",
       "      <td>139.977674</td>\n",
       "      <td>25.0</td>\n",
       "    </tr>\n",
       "    <tr>\n",
       "      <th>10000</th>\n",
       "      <td>100.00</td>\n",
       "      <td>140.0</td>\n",
       "      <td>139.994419</td>\n",
       "      <td>139.988837</td>\n",
       "      <td>139.983256</td>\n",
       "      <td>139.977674</td>\n",
       "      <td>25.0</td>\n",
       "    </tr>\n",
       "  </tbody>\n",
       "</table>\n",
       "<p>10001 rows × 7 columns</p>\n",
       "</div>"
      ],
      "text/plain": [
       "         Time  Heater       Node1       Node2       Node3       Node4  \\\n",
       "0        0.00   140.0   25.000000   25.000000   25.000000   25.000000   \n",
       "1        0.01   140.0   40.627474   25.000000   25.000000   25.000000   \n",
       "2        0.02   140.0   52.007679   27.123634   25.000000   25.000000   \n",
       "3        0.03   140.0   60.583531   30.216571   25.288583   25.000000   \n",
       "4        0.04   140.0   67.248921   33.673500   25.919037   25.078432   \n",
       "...       ...     ...         ...         ...         ...         ...   \n",
       "9996    99.96   140.0  139.994419  139.988837  139.983256  139.977674   \n",
       "9997    99.97   140.0  139.994419  139.988837  139.983256  139.977674   \n",
       "9998    99.98   140.0  139.994419  139.988837  139.983256  139.977674   \n",
       "9999    99.99   140.0  139.994419  139.988837  139.983256  139.977674   \n",
       "10000  100.00   140.0  139.994419  139.988837  139.983256  139.977674   \n",
       "\n",
       "       Convection  \n",
       "0            25.0  \n",
       "1            25.0  \n",
       "2            25.0  \n",
       "3            25.0  \n",
       "4            25.0  \n",
       "...           ...  \n",
       "9996         25.0  \n",
       "9997         25.0  \n",
       "9998         25.0  \n",
       "9999         25.0  \n",
       "10000        25.0  \n",
       "\n",
       "[10001 rows x 7 columns]"
      ]
     },
     "execution_count": 7,
     "metadata": {},
     "output_type": "execute_result"
    }
   ],
   "source": [
    "HeatSimulation.GetTempatureAtNodeAtTime(0,100,1)\n",
    "HeatSimulation.AllTemp"
   ]
  },
  {
   "cell_type": "markdown",
   "metadata": {},
   "source": [
    "And lets graph that"
   ]
  },
  {
   "cell_type": "code",
   "execution_count": 8,
   "metadata": {},
   "outputs": [
    {
     "data": {
      "image/png": "[encoded data removed]",
      "text/plain": [
       "<Figure size 432x288 with 1 Axes>"
      ]
     },
     "metadata": {
      "needs_background": "light"
     },
     "output_type": "display_data"
    }
   ],
   "source": [
    "HeatSimulation.GraphResults(\"For Aluminium\")"
   ]
  },
  {
   "cell_type": "markdown",
   "metadata": {},
   "source": [
    "The happens so fast lets zoom in"
   ]
  },
  {
   "cell_type": "code",
   "execution_count": 9,
   "metadata": {},
   "outputs": [
    {
     "name": "stdout",
     "output_type": "stream",
     "text": [
      "Time Invalid, rounding...\n",
      "500\n",
      "New Timestep is 5.0\n"
     ]
    },
    {
     "data": {
      "text/html": [
       "<div>\n",
       "<style scoped>\n",
       "    .dataframe tbody tr th:only-of-type {\n",
       "        vertical-align: middle;\n",
       "    }\n",
       "\n",
       "    .dataframe tbody tr th {\n",
       "        vertical-align: top;\n",
       "    }\n",
       "\n",
       "    .dataframe thead th {\n",
       "        text-align: right;\n",
       "    }\n",
       "</style>\n",
       "<table border=\"1\" class=\"dataframe\">\n",
       "  <thead>\n",
       "    <tr style=\"text-align: right;\">\n",
       "      <th></th>\n",
       "      <th>Time</th>\n",
       "      <th>Heater</th>\n",
       "      <th>Node1</th>\n",
       "      <th>Node2</th>\n",
       "      <th>Node3</th>\n",
       "      <th>Node4</th>\n",
       "      <th>Convection</th>\n",
       "    </tr>\n",
       "  </thead>\n",
       "  <tbody>\n",
       "    <tr>\n",
       "      <th>0</th>\n",
       "      <td>0.00</td>\n",
       "      <td>140.0</td>\n",
       "      <td>25.000000</td>\n",
       "      <td>25.000000</td>\n",
       "      <td>25.000000</td>\n",
       "      <td>25.000000</td>\n",
       "      <td>25.0</td>\n",
       "    </tr>\n",
       "    <tr>\n",
       "      <th>1</th>\n",
       "      <td>0.01</td>\n",
       "      <td>140.0</td>\n",
       "      <td>40.627474</td>\n",
       "      <td>25.000000</td>\n",
       "      <td>25.000000</td>\n",
       "      <td>25.000000</td>\n",
       "      <td>25.0</td>\n",
       "    </tr>\n",
       "    <tr>\n",
       "      <th>2</th>\n",
       "      <td>0.02</td>\n",
       "      <td>140.0</td>\n",
       "      <td>52.007679</td>\n",
       "      <td>27.123634</td>\n",
       "      <td>25.000000</td>\n",
       "      <td>25.000000</td>\n",
       "      <td>25.0</td>\n",
       "    </tr>\n",
       "    <tr>\n",
       "      <th>3</th>\n",
       "      <td>0.03</td>\n",
       "      <td>140.0</td>\n",
       "      <td>60.583531</td>\n",
       "      <td>30.216571</td>\n",
       "      <td>25.288583</td>\n",
       "      <td>25.000000</td>\n",
       "      <td>25.0</td>\n",
       "    </tr>\n",
       "    <tr>\n",
       "      <th>4</th>\n",
       "      <td>0.04</td>\n",
       "      <td>140.0</td>\n",
       "      <td>67.248921</td>\n",
       "      <td>33.673500</td>\n",
       "      <td>25.919037</td>\n",
       "      <td>25.078432</td>\n",
       "      <td>25.0</td>\n",
       "    </tr>\n",
       "    <tr>\n",
       "      <th>...</th>\n",
       "      <td>...</td>\n",
       "      <td>...</td>\n",
       "      <td>...</td>\n",
       "      <td>...</td>\n",
       "      <td>...</td>\n",
       "      <td>...</td>\n",
       "      <td>...</td>\n",
       "    </tr>\n",
       "    <tr>\n",
       "      <th>496</th>\n",
       "      <td>4.96</td>\n",
       "      <td>140.0</td>\n",
       "      <td>139.992685</td>\n",
       "      <td>139.985634</td>\n",
       "      <td>139.979071</td>\n",
       "      <td>139.973145</td>\n",
       "      <td>25.0</td>\n",
       "    </tr>\n",
       "    <tr>\n",
       "      <th>497</th>\n",
       "      <td>4.97</td>\n",
       "      <td>140.0</td>\n",
       "      <td>139.992721</td>\n",
       "      <td>139.985701</td>\n",
       "      <td>139.979158</td>\n",
       "      <td>139.973239</td>\n",
       "      <td>25.0</td>\n",
       "    </tr>\n",
       "    <tr>\n",
       "      <th>498</th>\n",
       "      <td>4.98</td>\n",
       "      <td>140.0</td>\n",
       "      <td>139.992756</td>\n",
       "      <td>139.985766</td>\n",
       "      <td>139.979243</td>\n",
       "      <td>139.973331</td>\n",
       "      <td>25.0</td>\n",
       "    </tr>\n",
       "    <tr>\n",
       "      <th>499</th>\n",
       "      <td>4.99</td>\n",
       "      <td>140.0</td>\n",
       "      <td>139.992791</td>\n",
       "      <td>139.985829</td>\n",
       "      <td>139.979326</td>\n",
       "      <td>139.973421</td>\n",
       "      <td>25.0</td>\n",
       "    </tr>\n",
       "    <tr>\n",
       "      <th>500</th>\n",
       "      <td>5.00</td>\n",
       "      <td>140.0</td>\n",
       "      <td>139.992824</td>\n",
       "      <td>139.985891</td>\n",
       "      <td>139.979407</td>\n",
       "      <td>139.973509</td>\n",
       "      <td>25.0</td>\n",
       "    </tr>\n",
       "  </tbody>\n",
       "</table>\n",
       "<p>501 rows × 7 columns</p>\n",
       "</div>"
      ],
      "text/plain": [
       "     Time  Heater       Node1       Node2       Node3       Node4  Convection\n",
       "0    0.00   140.0   25.000000   25.000000   25.000000   25.000000        25.0\n",
       "1    0.01   140.0   40.627474   25.000000   25.000000   25.000000        25.0\n",
       "2    0.02   140.0   52.007679   27.123634   25.000000   25.000000        25.0\n",
       "3    0.03   140.0   60.583531   30.216571   25.288583   25.000000        25.0\n",
       "4    0.04   140.0   67.248921   33.673500   25.919037   25.078432        25.0\n",
       "..    ...     ...         ...         ...         ...         ...         ...\n",
       "496  4.96   140.0  139.992685  139.985634  139.979071  139.973145        25.0\n",
       "497  4.97   140.0  139.992721  139.985701  139.979158  139.973239        25.0\n",
       "498  4.98   140.0  139.992756  139.985766  139.979243  139.973331        25.0\n",
       "499  4.99   140.0  139.992791  139.985829  139.979326  139.973421        25.0\n",
       "500  5.00   140.0  139.992824  139.985891  139.979407  139.973509        25.0\n",
       "\n",
       "[501 rows x 7 columns]"
      ]
     },
     "execution_count": 9,
     "metadata": {},
     "output_type": "execute_result"
    }
   ],
   "source": [
    "HeatSimulation.SetMaterialProperties(2707,896,206)\n",
    "HeatSimulation.SetTimeIncrement(.01)\n",
    "\n",
    "HeatSimulation.GetTempatureAtNodeAtTime(0,5,1)\n",
    "HeatSimulation.AllTemp"
   ]
  },
  {
   "cell_type": "code",
   "execution_count": 10,
   "metadata": {},
   "outputs": [
    {
     "data": {
      "image/png": "[encoded data removed]",
      "text/plain": [
       "<Figure size 432x288 with 1 Axes>"
      ]
     },
     "metadata": {
      "needs_background": "light"
     },
     "output_type": "display_data"
    }
   ],
   "source": [
    "HeatSimulation.GraphResults(\"For Aluminium\")"
   ]
  },
  {
   "cell_type": "markdown",
   "metadata": {},
   "source": [
    "Now we can see whats going on"
   ]
  },
  {
   "cell_type": "markdown",
   "metadata": {},
   "source": [
    "Now for Cast Iron\n",
    "set the properties"
   ]
  },
  {
   "cell_type": "code",
   "execution_count": 11,
   "metadata": {},
   "outputs": [],
   "source": [
    "HeatSimulation.SetMaterialProperties(7753,486,36)"
   ]
  },
  {
   "cell_type": "markdown",
   "metadata": {},
   "source": [
    "Resistance and thermal capacitance"
   ]
  },
  {
   "cell_type": "code",
   "execution_count": 12,
   "metadata": {
    "scrolled": true
   },
   "outputs": [
    {
     "data": {
      "text/html": [
       "<div>\n",
       "<style scoped>\n",
       "    .dataframe tbody tr th:only-of-type {\n",
       "        vertical-align: middle;\n",
       "    }\n",
       "\n",
       "    .dataframe tbody tr th {\n",
       "        vertical-align: top;\n",
       "    }\n",
       "\n",
       "    .dataframe thead th {\n",
       "        text-align: right;\n",
       "    }\n",
       "</style>\n",
       "<table border=\"1\" class=\"dataframe\">\n",
       "  <thead>\n",
       "    <tr style=\"text-align: right;\">\n",
       "      <th></th>\n",
       "      <th>Node</th>\n",
       "      <th>R_Left</th>\n",
       "      <th>R_Right</th>\n",
       "      <th>R_Circum</th>\n",
       "      <th>ThermCap</th>\n",
       "      <th>C/(1/R)</th>\n",
       "    </tr>\n",
       "  </thead>\n",
       "  <tbody>\n",
       "    <tr>\n",
       "      <th>0</th>\n",
       "      <td>1.0</td>\n",
       "      <td>9.824379</td>\n",
       "      <td>9.824379</td>\n",
       "      <td>0.0</td>\n",
       "      <td>0.066585</td>\n",
       "      <td>0.327080</td>\n",
       "    </tr>\n",
       "    <tr>\n",
       "      <th>1</th>\n",
       "      <td>2.0</td>\n",
       "      <td>9.824379</td>\n",
       "      <td>9.824379</td>\n",
       "      <td>0.0</td>\n",
       "      <td>0.066585</td>\n",
       "      <td>0.327080</td>\n",
       "    </tr>\n",
       "    <tr>\n",
       "      <th>2</th>\n",
       "      <td>3.0</td>\n",
       "      <td>9.824379</td>\n",
       "      <td>9.824379</td>\n",
       "      <td>0.0</td>\n",
       "      <td>0.066585</td>\n",
       "      <td>0.327080</td>\n",
       "    </tr>\n",
       "    <tr>\n",
       "      <th>3</th>\n",
       "      <td>4.0</td>\n",
       "      <td>9.824379</td>\n",
       "      <td>35367.765132</td>\n",
       "      <td>0.0</td>\n",
       "      <td>0.033293</td>\n",
       "      <td>0.326989</td>\n",
       "    </tr>\n",
       "  </tbody>\n",
       "</table>\n",
       "</div>"
      ],
      "text/plain": [
       "   Node    R_Left       R_Right  R_Circum  ThermCap   C/(1/R)\n",
       "0   1.0  9.824379      9.824379       0.0  0.066585  0.327080\n",
       "1   2.0  9.824379      9.824379       0.0  0.066585  0.327080\n",
       "2   3.0  9.824379      9.824379       0.0  0.066585  0.327080\n",
       "3   4.0  9.824379  35367.765132       0.0  0.033293  0.326989"
      ]
     },
     "execution_count": 12,
     "metadata": {},
     "output_type": "execute_result"
    }
   ],
   "source": [
    "HeatSimulation.UpdatePropertiesTable()\n",
    "HeatSimulation.PropsTable"
   ]
  },
  {
   "cell_type": "markdown",
   "metadata": {},
   "source": [
    "Recommended time step"
   ]
  },
  {
   "cell_type": "code",
   "execution_count": 13,
   "metadata": {},
   "outputs": [
    {
     "name": "stdout",
     "output_type": "stream",
     "text": [
      "0.2\n"
     ]
    }
   ],
   "source": [
    "print(HeatSimulation.SuggestedTimeInc(True))"
   ]
  },
  {
   "cell_type": "markdown",
   "metadata": {},
   "source": [
    "use the recommended to set one"
   ]
  },
  {
   "cell_type": "code",
   "execution_count": 14,
   "metadata": {},
   "outputs": [],
   "source": [
    "HeatSimulation.SetTimeIncrement(.1)"
   ]
  },
  {
   "cell_type": "markdown",
   "metadata": {},
   "source": [
    "Now lets run the simulator for 100 seconds"
   ]
  },
  {
   "cell_type": "code",
   "execution_count": 15,
   "metadata": {},
   "outputs": [
    {
     "name": "stdout",
     "output_type": "stream",
     "text": [
      "Time Invalid, rounding...\n",
      "1000\n",
      "New Timestep is 100.0\n"
     ]
    },
    {
     "data": {
      "text/html": [
       "<div>\n",
       "<style scoped>\n",
       "    .dataframe tbody tr th:only-of-type {\n",
       "        vertical-align: middle;\n",
       "    }\n",
       "\n",
       "    .dataframe tbody tr th {\n",
       "        vertical-align: top;\n",
       "    }\n",
       "\n",
       "    .dataframe thead th {\n",
       "        text-align: right;\n",
       "    }\n",
       "</style>\n",
       "<table border=\"1\" class=\"dataframe\">\n",
       "  <thead>\n",
       "    <tr style=\"text-align: right;\">\n",
       "      <th></th>\n",
       "      <th>Time</th>\n",
       "      <th>Heater</th>\n",
       "      <th>Node1</th>\n",
       "      <th>Node2</th>\n",
       "      <th>Node3</th>\n",
       "      <th>Node4</th>\n",
       "      <th>Convection</th>\n",
       "    </tr>\n",
       "  </thead>\n",
       "  <tbody>\n",
       "    <tr>\n",
       "      <th>0</th>\n",
       "      <td>0.0</td>\n",
       "      <td>140.0</td>\n",
       "      <td>25.000000</td>\n",
       "      <td>25.000000</td>\n",
       "      <td>25.000000</td>\n",
       "      <td>25.000000</td>\n",
       "      <td>25.0</td>\n",
       "    </tr>\n",
       "    <tr>\n",
       "      <th>1</th>\n",
       "      <td>0.1</td>\n",
       "      <td>140.0</td>\n",
       "      <td>42.579814</td>\n",
       "      <td>25.000000</td>\n",
       "      <td>25.000000</td>\n",
       "      <td>25.000000</td>\n",
       "      <td>25.0</td>\n",
       "    </tr>\n",
       "    <tr>\n",
       "      <th>2</th>\n",
       "      <td>0.2</td>\n",
       "      <td>140.0</td>\n",
       "      <td>54.784848</td>\n",
       "      <td>27.687390</td>\n",
       "      <td>25.000000</td>\n",
       "      <td>25.000000</td>\n",
       "      <td>25.0</td>\n",
       "    </tr>\n",
       "    <tr>\n",
       "      <th>3</th>\n",
       "      <td>0.3</td>\n",
       "      <td>140.0</td>\n",
       "      <td>63.669180</td>\n",
       "      <td>31.418907</td>\n",
       "      <td>25.410816</td>\n",
       "      <td>25.000000</td>\n",
       "      <td>25.0</td>\n",
       "    </tr>\n",
       "    <tr>\n",
       "      <th>4</th>\n",
       "      <td>0.4</td>\n",
       "      <td>140.0</td>\n",
       "      <td>70.407683</td>\n",
       "      <td>35.430495</td>\n",
       "      <td>26.266460</td>\n",
       "      <td>25.125601</td>\n",
       "      <td>25.0</td>\n",
       "    </tr>\n",
       "    <tr>\n",
       "      <th>...</th>\n",
       "      <td>...</td>\n",
       "      <td>...</td>\n",
       "      <td>...</td>\n",
       "      <td>...</td>\n",
       "      <td>...</td>\n",
       "      <td>...</td>\n",
       "      <td>...</td>\n",
       "    </tr>\n",
       "    <tr>\n",
       "      <th>996</th>\n",
       "      <td>99.6</td>\n",
       "      <td>140.0</td>\n",
       "      <td>139.968091</td>\n",
       "      <td>139.936182</td>\n",
       "      <td>139.904273</td>\n",
       "      <td>139.872364</td>\n",
       "      <td>25.0</td>\n",
       "    </tr>\n",
       "    <tr>\n",
       "      <th>997</th>\n",
       "      <td>99.7</td>\n",
       "      <td>140.0</td>\n",
       "      <td>139.968091</td>\n",
       "      <td>139.936182</td>\n",
       "      <td>139.904273</td>\n",
       "      <td>139.872364</td>\n",
       "      <td>25.0</td>\n",
       "    </tr>\n",
       "    <tr>\n",
       "      <th>998</th>\n",
       "      <td>99.8</td>\n",
       "      <td>140.0</td>\n",
       "      <td>139.968091</td>\n",
       "      <td>139.936182</td>\n",
       "      <td>139.904273</td>\n",
       "      <td>139.872364</td>\n",
       "      <td>25.0</td>\n",
       "    </tr>\n",
       "    <tr>\n",
       "      <th>999</th>\n",
       "      <td>99.9</td>\n",
       "      <td>140.0</td>\n",
       "      <td>139.968091</td>\n",
       "      <td>139.936182</td>\n",
       "      <td>139.904273</td>\n",
       "      <td>139.872364</td>\n",
       "      <td>25.0</td>\n",
       "    </tr>\n",
       "    <tr>\n",
       "      <th>1000</th>\n",
       "      <td>100.0</td>\n",
       "      <td>140.0</td>\n",
       "      <td>139.968091</td>\n",
       "      <td>139.936182</td>\n",
       "      <td>139.904273</td>\n",
       "      <td>139.872364</td>\n",
       "      <td>25.0</td>\n",
       "    </tr>\n",
       "  </tbody>\n",
       "</table>\n",
       "<p>1001 rows × 7 columns</p>\n",
       "</div>"
      ],
      "text/plain": [
       "       Time  Heater       Node1       Node2       Node3       Node4  \\\n",
       "0       0.0   140.0   25.000000   25.000000   25.000000   25.000000   \n",
       "1       0.1   140.0   42.579814   25.000000   25.000000   25.000000   \n",
       "2       0.2   140.0   54.784848   27.687390   25.000000   25.000000   \n",
       "3       0.3   140.0   63.669180   31.418907   25.410816   25.000000   \n",
       "4       0.4   140.0   70.407683   35.430495   26.266460   25.125601   \n",
       "...     ...     ...         ...         ...         ...         ...   \n",
       "996    99.6   140.0  139.968091  139.936182  139.904273  139.872364   \n",
       "997    99.7   140.0  139.968091  139.936182  139.904273  139.872364   \n",
       "998    99.8   140.0  139.968091  139.936182  139.904273  139.872364   \n",
       "999    99.9   140.0  139.968091  139.936182  139.904273  139.872364   \n",
       "1000  100.0   140.0  139.968091  139.936182  139.904273  139.872364   \n",
       "\n",
       "      Convection  \n",
       "0           25.0  \n",
       "1           25.0  \n",
       "2           25.0  \n",
       "3           25.0  \n",
       "4           25.0  \n",
       "...          ...  \n",
       "996         25.0  \n",
       "997         25.0  \n",
       "998         25.0  \n",
       "999         25.0  \n",
       "1000        25.0  \n",
       "\n",
       "[1001 rows x 7 columns]"
      ]
     },
     "execution_count": 15,
     "metadata": {},
     "output_type": "execute_result"
    }
   ],
   "source": [
    "HeatSimulation.GetTempatureAtNodeAtTime(0,100,1)\n",
    "HeatSimulation.AllTemp"
   ]
  },
  {
   "cell_type": "markdown",
   "metadata": {},
   "source": [
    "And lets graph that"
   ]
  },
  {
   "cell_type": "code",
   "execution_count": 16,
   "metadata": {},
   "outputs": [
    {
     "data": {
      "image/png": "[encoded data removed]",
      "text/plain": [
       "<Figure size 432x288 with 1 Axes>"
      ]
     },
     "metadata": {
      "needs_background": "light"
     },
     "output_type": "display_data"
    }
   ],
   "source": [
    "HeatSimulation.GraphResults(\"For Cast Iron\")"
   ]
  },
  {
   "cell_type": "markdown",
   "metadata": {},
   "source": [
    "And lets zoom in on this graph too"
   ]
  },
  {
   "cell_type": "code",
   "execution_count": 17,
   "metadata": {},
   "outputs": [
    {
     "name": "stdout",
     "output_type": "stream",
     "text": [
      "Time Invalid, rounding...\n",
      "200\n",
      "New Timestep is 20.0\n"
     ]
    },
    {
     "data": {
      "text/html": [
       "<div>\n",
       "<style scoped>\n",
       "    .dataframe tbody tr th:only-of-type {\n",
       "        vertical-align: middle;\n",
       "    }\n",
       "\n",
       "    .dataframe tbody tr th {\n",
       "        vertical-align: top;\n",
       "    }\n",
       "\n",
       "    .dataframe thead th {\n",
       "        text-align: right;\n",
       "    }\n",
       "</style>\n",
       "<table border=\"1\" class=\"dataframe\">\n",
       "  <thead>\n",
       "    <tr style=\"text-align: right;\">\n",
       "      <th></th>\n",
       "      <th>Time</th>\n",
       "      <th>Heater</th>\n",
       "      <th>Node1</th>\n",
       "      <th>Node2</th>\n",
       "      <th>Node3</th>\n",
       "      <th>Node4</th>\n",
       "      <th>Convection</th>\n",
       "    </tr>\n",
       "  </thead>\n",
       "  <tbody>\n",
       "    <tr>\n",
       "      <th>0</th>\n",
       "      <td>0.0</td>\n",
       "      <td>140.0</td>\n",
       "      <td>25.000000</td>\n",
       "      <td>25.000000</td>\n",
       "      <td>25.000000</td>\n",
       "      <td>25.000000</td>\n",
       "      <td>25.0</td>\n",
       "    </tr>\n",
       "    <tr>\n",
       "      <th>1</th>\n",
       "      <td>0.1</td>\n",
       "      <td>140.0</td>\n",
       "      <td>42.579814</td>\n",
       "      <td>25.000000</td>\n",
       "      <td>25.000000</td>\n",
       "      <td>25.000000</td>\n",
       "      <td>25.0</td>\n",
       "    </tr>\n",
       "    <tr>\n",
       "      <th>2</th>\n",
       "      <td>0.2</td>\n",
       "      <td>140.0</td>\n",
       "      <td>54.784848</td>\n",
       "      <td>27.687390</td>\n",
       "      <td>25.000000</td>\n",
       "      <td>25.000000</td>\n",
       "      <td>25.0</td>\n",
       "    </tr>\n",
       "    <tr>\n",
       "      <th>3</th>\n",
       "      <td>0.3</td>\n",
       "      <td>140.0</td>\n",
       "      <td>63.669180</td>\n",
       "      <td>31.418907</td>\n",
       "      <td>25.410816</td>\n",
       "      <td>25.000000</td>\n",
       "      <td>25.0</td>\n",
       "    </tr>\n",
       "    <tr>\n",
       "      <th>4</th>\n",
       "      <td>0.4</td>\n",
       "      <td>140.0</td>\n",
       "      <td>70.407683</td>\n",
       "      <td>35.430495</td>\n",
       "      <td>26.266460</td>\n",
       "      <td>25.125601</td>\n",
       "      <td>25.0</td>\n",
       "    </tr>\n",
       "    <tr>\n",
       "      <th>...</th>\n",
       "      <td>...</td>\n",
       "      <td>...</td>\n",
       "      <td>...</td>\n",
       "      <td>...</td>\n",
       "      <td>...</td>\n",
       "      <td>...</td>\n",
       "      <td>...</td>\n",
       "    </tr>\n",
       "    <tr>\n",
       "      <th>196</th>\n",
       "      <td>19.6</td>\n",
       "      <td>140.0</td>\n",
       "      <td>139.423178</td>\n",
       "      <td>138.929390</td>\n",
       "      <td>138.589017</td>\n",
       "      <td>138.449062</td>\n",
       "      <td>25.0</td>\n",
       "    </tr>\n",
       "    <tr>\n",
       "      <th>197</th>\n",
       "      <td>19.7</td>\n",
       "      <td>140.0</td>\n",
       "      <td>139.435871</td>\n",
       "      <td>138.952842</td>\n",
       "      <td>138.619655</td>\n",
       "      <td>138.482217</td>\n",
       "      <td>25.0</td>\n",
       "    </tr>\n",
       "    <tr>\n",
       "      <th>198</th>\n",
       "      <td>19.8</td>\n",
       "      <td>140.0</td>\n",
       "      <td>139.448269</td>\n",
       "      <td>138.975748</td>\n",
       "      <td>138.649578</td>\n",
       "      <td>138.514599</td>\n",
       "      <td>25.0</td>\n",
       "    </tr>\n",
       "    <tr>\n",
       "      <th>199</th>\n",
       "      <td>19.9</td>\n",
       "      <td>140.0</td>\n",
       "      <td>139.460378</td>\n",
       "      <td>138.998121</td>\n",
       "      <td>138.678805</td>\n",
       "      <td>138.546226</td>\n",
       "      <td>25.0</td>\n",
       "    </tr>\n",
       "    <tr>\n",
       "      <th>200</th>\n",
       "      <td>20.0</td>\n",
       "      <td>140.0</td>\n",
       "      <td>139.472204</td>\n",
       "      <td>139.019972</td>\n",
       "      <td>138.707351</td>\n",
       "      <td>138.577117</td>\n",
       "      <td>25.0</td>\n",
       "    </tr>\n",
       "  </tbody>\n",
       "</table>\n",
       "<p>201 rows × 7 columns</p>\n",
       "</div>"
      ],
      "text/plain": [
       "     Time  Heater       Node1       Node2       Node3       Node4  Convection\n",
       "0     0.0   140.0   25.000000   25.000000   25.000000   25.000000        25.0\n",
       "1     0.1   140.0   42.579814   25.000000   25.000000   25.000000        25.0\n",
       "2     0.2   140.0   54.784848   27.687390   25.000000   25.000000        25.0\n",
       "3     0.3   140.0   63.669180   31.418907   25.410816   25.000000        25.0\n",
       "4     0.4   140.0   70.407683   35.430495   26.266460   25.125601        25.0\n",
       "..    ...     ...         ...         ...         ...         ...         ...\n",
       "196  19.6   140.0  139.423178  138.929390  138.589017  138.449062        25.0\n",
       "197  19.7   140.0  139.435871  138.952842  138.619655  138.482217        25.0\n",
       "198  19.8   140.0  139.448269  138.975748  138.649578  138.514599        25.0\n",
       "199  19.9   140.0  139.460378  138.998121  138.678805  138.546226        25.0\n",
       "200  20.0   140.0  139.472204  139.019972  138.707351  138.577117        25.0\n",
       "\n",
       "[201 rows x 7 columns]"
      ]
     },
     "execution_count": 17,
     "metadata": {},
     "output_type": "execute_result"
    }
   ],
   "source": [
    "\n",
    "HeatSimulation.SetMaterialProperties(7753,486,36)\n",
    "HeatSimulation.SetTimeIncrement(.1)\n",
    "HeatSimulation.GetTempatureAtNodeAtTime(0,20,1)\n",
    "HeatSimulation.AllTemp"
   ]
  },
  {
   "cell_type": "code",
   "execution_count": 18,
   "metadata": {},
   "outputs": [
    {
     "data": {
      "image/png": "[encoded data removed]",
      "text/plain": [
       "<Figure size 432x288 with 1 Axes>"
      ]
     },
     "metadata": {
      "needs_background": "light"
     },
     "output_type": "display_data"
    }
   ],
   "source": [
    "HeatSimulation.GraphResults(\"For Cast Iron\")"
   ]
  },
  {
   "cell_type": "markdown",
   "metadata": {},
   "source": [
    "Now with Stainless steel!"
   ]
  },
  {
   "cell_type": "code",
   "execution_count": 8,
   "metadata": {},
   "outputs": [],
   "source": [
    "HeatSimulation.SetDiameter(.003)\n",
    "HeatSimulation.SetNodes(4,.01)\n",
    "HeatSimulation.SetConvectionProperties(4,25)\n",
    "HeatSimulation.EnableLateralHeatTransfer(False)\n",
    "HeatSimulation.SetHeatSource(140)\n",
    "HeatSimulation.SetInitalTemp(25)"
   ]
  },
  {
   "cell_type": "code",
   "execution_count": 9,
   "metadata": {},
   "outputs": [],
   "source": [
    "HeatSimulation.SetMaterialProperties(7817,460,16.3)"
   ]
  },
  {
   "cell_type": "code",
   "execution_count": 10,
   "metadata": {},
   "outputs": [
    {
     "data": {
      "text/html": [
       "<div>\n",
       "<style scoped>\n",
       "    .dataframe tbody tr th:only-of-type {\n",
       "        vertical-align: middle;\n",
       "    }\n",
       "\n",
       "    .dataframe tbody tr th {\n",
       "        vertical-align: top;\n",
       "    }\n",
       "\n",
       "    .dataframe thead th {\n",
       "        text-align: right;\n",
       "    }\n",
       "</style>\n",
       "<table border=\"1\" class=\"dataframe\">\n",
       "  <thead>\n",
       "    <tr style=\"text-align: right;\">\n",
       "      <th></th>\n",
       "      <th>Node</th>\n",
       "      <th>R_Left</th>\n",
       "      <th>R_Right</th>\n",
       "      <th>R_Circum</th>\n",
       "      <th>ThermCap</th>\n",
       "      <th>C/(1/R)</th>\n",
       "    </tr>\n",
       "  </thead>\n",
       "  <tbody>\n",
       "    <tr>\n",
       "      <th>0</th>\n",
       "      <td>1.0</td>\n",
       "      <td>21.698015</td>\n",
       "      <td>21.698015</td>\n",
       "      <td>0.0</td>\n",
       "      <td>0.063543</td>\n",
       "      <td>0.689383</td>\n",
       "    </tr>\n",
       "    <tr>\n",
       "      <th>1</th>\n",
       "      <td>2.0</td>\n",
       "      <td>21.698015</td>\n",
       "      <td>21.698015</td>\n",
       "      <td>0.0</td>\n",
       "      <td>0.063543</td>\n",
       "      <td>0.689383</td>\n",
       "    </tr>\n",
       "    <tr>\n",
       "      <th>2</th>\n",
       "      <td>3.0</td>\n",
       "      <td>21.698015</td>\n",
       "      <td>21.698015</td>\n",
       "      <td>0.0</td>\n",
       "      <td>0.063543</td>\n",
       "      <td>0.689383</td>\n",
       "    </tr>\n",
       "    <tr>\n",
       "      <th>3</th>\n",
       "      <td>4.0</td>\n",
       "      <td>21.698015</td>\n",
       "      <td>35367.765132</td>\n",
       "      <td>0.0</td>\n",
       "      <td>0.031772</td>\n",
       "      <td>0.688960</td>\n",
       "    </tr>\n",
       "  </tbody>\n",
       "</table>\n",
       "</div>"
      ],
      "text/plain": [
       "   Node     R_Left       R_Right  R_Circum  ThermCap   C/(1/R)\n",
       "0   1.0  21.698015     21.698015       0.0  0.063543  0.689383\n",
       "1   2.0  21.698015     21.698015       0.0  0.063543  0.689383\n",
       "2   3.0  21.698015     21.698015       0.0  0.063543  0.689383\n",
       "3   4.0  21.698015  35367.765132       0.0  0.031772  0.688960"
      ]
     },
     "execution_count": 10,
     "metadata": {},
     "output_type": "execute_result"
    }
   ],
   "source": [
    "HeatSimulation.UpdatePropertiesTable()\n",
    "HeatSimulation.PropsTable"
   ]
  },
  {
   "cell_type": "code",
   "execution_count": 12,
   "metadata": {},
   "outputs": [
    {
     "name": "stdout",
     "output_type": "stream",
     "text": [
      "0.4\n"
     ]
    }
   ],
   "source": [
    "print(HeatSimulation.SuggestedTimeInc(True))"
   ]
  },
  {
   "cell_type": "code",
   "execution_count": 14,
   "metadata": {},
   "outputs": [],
   "source": [
    "HeatSimulation.SetTimeIncrement(.2)"
   ]
  },
  {
   "cell_type": "code",
   "execution_count": 16,
   "metadata": {},
   "outputs": [
    {
     "name": "stdout",
     "output_type": "stream",
     "text": [
      "Time Invalid, rounding...\n",
      "250\n",
      "New Timestep is 50.0\n"
     ]
    },
    {
     "data": {
      "text/html": [
       "<div>\n",
       "<style scoped>\n",
       "    .dataframe tbody tr th:only-of-type {\n",
       "        vertical-align: middle;\n",
       "    }\n",
       "\n",
       "    .dataframe tbody tr th {\n",
       "        vertical-align: top;\n",
       "    }\n",
       "\n",
       "    .dataframe thead th {\n",
       "        text-align: right;\n",
       "    }\n",
       "</style>\n",
       "<table border=\"1\" class=\"dataframe\">\n",
       "  <thead>\n",
       "    <tr style=\"text-align: right;\">\n",
       "      <th></th>\n",
       "      <th>Time</th>\n",
       "      <th>Heater</th>\n",
       "      <th>Node1</th>\n",
       "      <th>Node2</th>\n",
       "      <th>Node3</th>\n",
       "      <th>Node4</th>\n",
       "      <th>Convection</th>\n",
       "    </tr>\n",
       "  </thead>\n",
       "  <tbody>\n",
       "    <tr>\n",
       "      <th>0</th>\n",
       "      <td>0.0</td>\n",
       "      <td>140.0</td>\n",
       "      <td>25.000000</td>\n",
       "      <td>25.000000</td>\n",
       "      <td>25.000000</td>\n",
       "      <td>25.000000</td>\n",
       "      <td>25.0</td>\n",
       "    </tr>\n",
       "    <tr>\n",
       "      <th>1</th>\n",
       "      <td>0.2</td>\n",
       "      <td>140.0</td>\n",
       "      <td>41.681591</td>\n",
       "      <td>25.000000</td>\n",
       "      <td>25.000000</td>\n",
       "      <td>25.000000</td>\n",
       "      <td>25.0</td>\n",
       "    </tr>\n",
       "    <tr>\n",
       "      <th>2</th>\n",
       "      <td>0.4</td>\n",
       "      <td>140.0</td>\n",
       "      <td>53.523609</td>\n",
       "      <td>27.419787</td>\n",
       "      <td>25.000000</td>\n",
       "      <td>25.000000</td>\n",
       "      <td>25.0</td>\n",
       "    </tr>\n",
       "    <tr>\n",
       "      <th>3</th>\n",
       "      <td>0.6</td>\n",
       "      <td>140.0</td>\n",
       "      <td>62.281092</td>\n",
       "      <td>30.855329</td>\n",
       "      <td>25.351008</td>\n",
       "      <td>25.000000</td>\n",
       "      <td>25.0</td>\n",
       "    </tr>\n",
       "    <tr>\n",
       "      <th>4</th>\n",
       "      <td>0.8</td>\n",
       "      <td>140.0</td>\n",
       "      <td>68.996251</td>\n",
       "      <td>34.615424</td>\n",
       "      <td>26.098534</td>\n",
       "      <td>25.101832</td>\n",
       "      <td>25.0</td>\n",
       "    </tr>\n",
       "    <tr>\n",
       "      <th>...</th>\n",
       "      <td>...</td>\n",
       "      <td>...</td>\n",
       "      <td>...</td>\n",
       "      <td>...</td>\n",
       "      <td>...</td>\n",
       "      <td>...</td>\n",
       "      <td>...</td>\n",
       "    </tr>\n",
       "    <tr>\n",
       "      <th>246</th>\n",
       "      <td>49.2</td>\n",
       "      <td>140.0</td>\n",
       "      <td>139.704859</td>\n",
       "      <td>139.444005</td>\n",
       "      <td>139.246494</td>\n",
       "      <td>139.131720</td>\n",
       "      <td>25.0</td>\n",
       "    </tr>\n",
       "    <tr>\n",
       "      <th>247</th>\n",
       "      <td>49.4</td>\n",
       "      <td>140.0</td>\n",
       "      <td>139.709833</td>\n",
       "      <td>139.453193</td>\n",
       "      <td>139.258496</td>\n",
       "      <td>139.144704</td>\n",
       "      <td>25.0</td>\n",
       "    </tr>\n",
       "    <tr>\n",
       "      <th>248</th>\n",
       "      <td>49.6</td>\n",
       "      <td>140.0</td>\n",
       "      <td>139.714696</td>\n",
       "      <td>139.462179</td>\n",
       "      <td>139.270232</td>\n",
       "      <td>139.157401</td>\n",
       "      <td>25.0</td>\n",
       "    </tr>\n",
       "    <tr>\n",
       "      <th>249</th>\n",
       "      <td>49.8</td>\n",
       "      <td>140.0</td>\n",
       "      <td>139.719452</td>\n",
       "      <td>139.470965</td>\n",
       "      <td>139.281708</td>\n",
       "      <td>139.169816</td>\n",
       "      <td>25.0</td>\n",
       "    </tr>\n",
       "    <tr>\n",
       "      <th>250</th>\n",
       "      <td>50.0</td>\n",
       "      <td>140.0</td>\n",
       "      <td>139.724103</td>\n",
       "      <td>139.479557</td>\n",
       "      <td>139.292930</td>\n",
       "      <td>139.181957</td>\n",
       "      <td>25.0</td>\n",
       "    </tr>\n",
       "  </tbody>\n",
       "</table>\n",
       "<p>251 rows × 7 columns</p>\n",
       "</div>"
      ],
      "text/plain": [
       "     Time  Heater       Node1       Node2       Node3       Node4  Convection\n",
       "0     0.0   140.0   25.000000   25.000000   25.000000   25.000000        25.0\n",
       "1     0.2   140.0   41.681591   25.000000   25.000000   25.000000        25.0\n",
       "2     0.4   140.0   53.523609   27.419787   25.000000   25.000000        25.0\n",
       "3     0.6   140.0   62.281092   30.855329   25.351008   25.000000        25.0\n",
       "4     0.8   140.0   68.996251   34.615424   26.098534   25.101832        25.0\n",
       "..    ...     ...         ...         ...         ...         ...         ...\n",
       "246  49.2   140.0  139.704859  139.444005  139.246494  139.131720        25.0\n",
       "247  49.4   140.0  139.709833  139.453193  139.258496  139.144704        25.0\n",
       "248  49.6   140.0  139.714696  139.462179  139.270232  139.157401        25.0\n",
       "249  49.8   140.0  139.719452  139.470965  139.281708  139.169816        25.0\n",
       "250  50.0   140.0  139.724103  139.479557  139.292930  139.181957        25.0\n",
       "\n",
       "[251 rows x 7 columns]"
      ]
     },
     "execution_count": 16,
     "metadata": {},
     "output_type": "execute_result"
    }
   ],
   "source": [
    "HeatSimulation.GetTempatureAtNodeAtTime(0,50,1)\n",
    "HeatSimulation.AllTemp"
   ]
  },
  {
   "cell_type": "code",
   "execution_count": 17,
   "metadata": {},
   "outputs": [
    {
     "data": {
      "image/png": "[encoded data removed]",
      "text/plain": [
       "<Figure size 432x288 with 1 Axes>"
      ]
     },
     "metadata": {
      "needs_background": "light"
     },
     "output_type": "display_data"
    }
   ],
   "source": [
    "HeatSimulation.GraphResults(\"For Stainless Steel\")"
   ]
  },
  {
   "cell_type": "code",
   "execution_count": null,
   "metadata": {},
   "outputs": [],
   "source": []
  },
  {
   "cell_type": "code",
   "execution_count": null,
   "metadata": {},
   "outputs": [],
   "source": []
  }
 ],
 "metadata": {
  "kernelspec": {
   "display_name": "Python 3",
   "language": "python",
   "name": "python3"
  },
  "language_info": {
   "codemirror_mode": {
    "name": "ipython",
    "version": 3
   },
   "file_extension": ".py",
   "mimetype": "text/x-python",
   "name": "python",
   "nbconvert_exporter": "python",
   "pygments_lexer": "ipython3",
   "version": "3.6.10"
  }
 },
 "nbformat": 4,
 "nbformat_minor": 4
}
